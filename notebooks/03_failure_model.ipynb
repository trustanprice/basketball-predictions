{
 "cells": [
  {
   "cell_type": "markdown",
   "metadata": {},
   "source": [
    "# Model Creation"
   ]
  },
  {
   "cell_type": "markdown",
   "metadata": {},
   "source": [
    "## Introduction"
   ]
  },
  {
   "cell_type": "markdown",
   "metadata": {},
   "source": [
    "Welcome to the prediction model creation portion of my basketball prediction project. This will be the last notebook in the step to having a complete prediction model with manually scraped and pruned data. In the future, I will need to create the failure model that will be able to take these predictions and use a confidence interval to flag a team as a fail if they lose too many games and not failed if they win enough."
   ]
  },
  {
   "cell_type": "markdown",
   "metadata": {},
   "source": [
    "## Libraries/Imports"
   ]
  },
  {
   "cell_type": "code",
   "execution_count": 249,
   "metadata": {},
   "outputs": [],
   "source": [
    "# data manipulatiom\n",
    "import pandas as pd\n",
    "import numpy as np\n",
    "\n",
    "# machine learning imports\n",
    "from sklearn.linear_model import LinearRegression\n",
    "from sklearn.neighbors import KNeighborsRegressor\n",
    "from sklearn.tree import DecisionTreeRegressor\n",
    "from sklearn.neural_network import MLPRegressor\n",
    "\n",
    "# model selection\n",
    "from sklearn.model_selection import GridSearchCV\n",
    " \n",
    "# data preprocessing\n",
    "from sklearn.pipeline import make_pipeline\n",
    "from sklearn.compose import make_column_transformer\n",
    "from sklearn.impute import SimpleImputer\n",
    "from sklearn.preprocessing import RobustScaler, OneHotEncoder\n",
    "\n",
    "# result metrics\n",
    "from sklearn.metrics import mean_squared_error, mean_absolute_error\n",
    "\n",
    "# internal imports\n",
    "import sys, os\n",
    "sys.path.append(os.path.abspath(\"..\"))\n",
    "from src.model import *\n",
    "from src.utils import nba_teams, team_map\n",
    "from src.data_loader import *"
   ]
  },
  {
   "cell_type": "markdown",
   "metadata": {},
   "source": [
    "### Data"
   ]
  },
  {
   "cell_type": "code",
   "execution_count": 250,
   "metadata": {},
   "outputs": [
    {
     "name": "stdout",
     "output_type": "stream",
     "text": [
      "   Season           Team  GP          W          L   WIN%        Min  \\\n",
      "0    2016  Atlanta Hawks  82  48.000000  34.000000  0.585  48.400000   \n",
      "1    2017  Atlanta Hawks  82  43.000000  39.000000  0.524  48.500000   \n",
      "2    2018  Atlanta Hawks  82  24.000000  58.000000  0.293  48.100000   \n",
      "3    2019  Atlanta Hawks  82  29.000000  53.000000  0.354  48.400000   \n",
      "4    2020  Atlanta Hawks  67  24.477612  57.522388  0.299  59.480597   \n",
      "\n",
      "          PTS        FGM         FGA  ...  Yw/Franch  YOverall  CareerW  \\\n",
      "0  102.800000  38.600000   84.400000  ...          3         3      146   \n",
      "1  103.200000  38.100000   84.400000  ...          4         4      189   \n",
      "2  103.400000  38.200000   85.500000  ...          5         5      213   \n",
      "3  113.300000  41.400000   91.800000  ...          1         1       29   \n",
      "4  136.829851  49.689552  110.883582  ...          2         2       49   \n",
      "\n",
      "   CareerL  CareerW%  FirstRoundPicks  SecondRoundPicks  Coach_Count  \\\n",
      "0      100     0.593         1.000000          2.000000            1   \n",
      "1      139     0.576         1.000000          2.000000            1   \n",
      "2      197     0.520         3.000000          1.000000            1   \n",
      "3       53     0.354         2.000000          1.000000            1   \n",
      "4      100     0.329         1.223881          1.223881            1   \n",
      "\n",
      "       Payroll      NWins  \n",
      "0   71661760.0  43.000000  \n",
      "1   96315163.0  24.000000  \n",
      "2   99992696.0  29.000000  \n",
      "3   79180081.0  24.477612  \n",
      "4  110702618.0  46.694444  \n",
      "\n",
      "[5 rows x 57 columns]\n"
     ]
    }
   ],
   "source": [
    "# load data\n",
    "master_df = pd.read_csv(\"/Users/trustanprice/Desktop/Personal/Basketball-Predictions/data/raw/master-stats/master_df.csv\")\n",
    "print(master_df.head())"
   ]
  },
  {
   "cell_type": "markdown",
   "metadata": {},
   "source": [
    "I will now create the training and testing data, making the training data 2016-2023 seasons (8 seasons) and the testing data 2024/2025 seasons (2 seasons). I am doing it like this because I am predicting for the seasons to come; therefore, I am trying to replicate the traditional 80/20 split while making it a time-based split."
   ]
  },
  {
   "cell_type": "code",
   "execution_count": 251,
   "metadata": {},
   "outputs": [
    {
     "name": "stdout",
     "output_type": "stream",
     "text": [
      "Train shape: (227, 57)\n",
      "Test shape: (101, 57)\n"
     ]
    }
   ],
   "source": [
    "# train/test split\n",
    "master_test = master_df[master_df[\"Season\"].isin([2023, 2024, 2025])]\n",
    "master_train = master_df[~master_df[\"Season\"].isin([2023, 2024, 2025])]\n",
    "\n",
    "print(\"Train shape:\", master_train.shape)\n",
    "print(\"Test shape:\", master_test.shape)"
   ]
  },
  {
   "cell_type": "code",
   "execution_count": 252,
   "metadata": {},
   "outputs": [],
   "source": [
    "# Numeric features (continuous or counts)\n",
    "numeric_features = [\n",
    "    \"GP\", \"W\", \"L\", \"WIN%\", \"Min\", \"PTS\", \"FGM\", \"FGA\", \"FG%\",\n",
    "    \"3PM\", \"3PA\", \"3P%\", \"FTM\", \"FTA\", \"FT%\", \"OREB\", \"DREB\",\n",
    "    \"REB\", \"AST\", \"TOV\", \"STL\", \"BLK\", \"BLKA\", \"PF\", \"PFD\",\n",
    "    \"PLUS_MINUS\", \"Home_W\", \"Home_L\", \"Road_W\", \"Road_L\",\n",
    "    \"E_W\", \"E_L\", \"W_W\", \"W_L\", \"Pre-ASG_W\", \"Pre-ASG_L\",\n",
    "    \"Post-ASG_W\", \"Post-ASG_L\", \"SOS\", \"Yw/Franch\", \"YOverall\",\n",
    "    \"CareerW\", \"CareerL\", \"CareerW%\", \"FirstRoundPicks\",\"SecondRoundPicks\", \"Coach_Count\", \"Payroll\",\n",
    "    \n",
    "    # Player-aggregated features\n",
    "    \"avg_age\", \"avg_pts_top10\", \"avg_production_score\", \"injury_rate\"\n",
    "]\n",
    "\n",
    "# Categorical features (labels, identifiers, strings)\n",
    "categorical_features = [\n",
    "    \"Season\"\n",
    "]\n",
    "\n",
    "# Define target column (predict next season’s wins)\n",
    "target_column = \"NWins\""
   ]
  },
  {
   "cell_type": "markdown",
   "metadata": {},
   "source": [
    "### Models"
   ]
  },
  {
   "cell_type": "code",
   "execution_count": 253,
   "metadata": {},
   "outputs": [],
   "source": [
    "# --- Training data ---\n",
    "X_train = master_train.drop(columns=[\"NWins\"])   # drop target column\n",
    "y_train = master_train[\"NWins\"]                  # target = next season wins\n",
    "\n",
    "# --- Testing data ---\n",
    "X_test = master_test.drop(columns=[\"NWins\"])     # drop target column\n",
    "y_test = master_test[\"NWins\"]                    # target = next season wins (NaN for 2025)"
   ]
  },
  {
   "cell_type": "markdown",
   "metadata": {},
   "source": [
    "After loading in my training and testing data, I will now utilize elastic net for feature selection because of the amount of predictors my original dataset has."
   ]
  },
  {
   "cell_type": "code",
   "execution_count": 254,
   "metadata": {},
   "outputs": [
    {
     "name": "stdout",
     "output_type": "stream",
     "text": [
      "Fitting 10 folds for each of 12 candidates, totalling 120 fits\n"
     ]
    }
   ],
   "source": [
    "# build preprocessor for reduced features\n",
    "preprocessor = build_preprocessor(numeric_features, categorical_features)\n",
    "\n",
    "# choose a model\n",
    "elasticnet_model = build_elasticnet(preprocessor, X_train, y_train)"
   ]
  },
  {
   "cell_type": "code",
   "execution_count": 255,
   "metadata": {},
   "outputs": [
    {
     "name": "stdout",
     "output_type": "stream",
     "text": [
      "                 Feature  Coefficient\n",
      "25            PLUS_MINUS     2.788172\n",
      "2                      L    -1.564991\n",
      "1                      W     1.564768\n",
      "3                   WIN%     1.562024\n",
      "8                    FG%     0.298940\n",
      "27                Home_L    -0.273870\n",
      "38                   SOS    -0.203967\n",
      "44       FirstRoundPicks    -0.192135\n",
      "26                Home_W     0.092364\n",
      "43              CareerW%     0.000000\n",
      "36            Post-ASG_W     0.000000\n",
      "37            Post-ASG_L     0.000000\n",
      "35             Pre-ASG_L    -0.000000\n",
      "39             Yw/Franch     0.000000\n",
      "40              YOverall    -0.000000\n",
      "41               CareerW    -0.000000\n",
      "42               CareerL     0.000000\n",
      "0                     GP    -0.000000\n",
      "45      SecondRoundPicks     0.000000\n",
      "33                   W_L    -0.000000\n",
      "46           Coach_Count    -0.000000\n",
      "47               Payroll     0.000000\n",
      "48               avg_age    -0.000000\n",
      "49         avg_pts_top10     0.000000\n",
      "50  avg_production_score     0.000000\n",
      "51           injury_rate    -0.000000\n",
      "52           Season_2017     0.000000\n",
      "53           Season_2018    -0.000000\n",
      "54           Season_2019    -0.000000\n",
      "55           Season_2020     0.000000\n"
     ]
    }
   ],
   "source": [
    "# --- Get feature importances (coefficients) ---\n",
    "best_pipeline = elasticnet_model.best_estimator_\n",
    "\n",
    "# 1. Get one-hot encoder feature names\n",
    "cat_ohe = best_pipeline.named_steps['columntransformer'] \\\n",
    "    .named_transformers_['pipeline-2'] \\\n",
    "    .named_steps['onehotencoder'] \\\n",
    "    .get_feature_names_out(categorical_features)\n",
    "\n",
    "# 2. Combine numeric + categorical feature names\n",
    "all_features = numeric_features + list(cat_ohe)\n",
    "\n",
    "# 3. Get coefficients\n",
    "coefficients = best_pipeline.named_steps['elasticnet'].coef_\n",
    "\n",
    "feature_importance = pd.DataFrame({\n",
    "    \"Feature\": all_features,\n",
    "    \"Coefficient\": coefficients\n",
    "}).sort_values(by=\"Coefficient\", key=abs, ascending=False)\n",
    "\n",
    "print(feature_importance.head(30))  # top 30 features\n"
   ]
  },
  {
   "cell_type": "markdown",
   "metadata": {},
   "source": [
    "The elastic net model has made all of the insignificant predictors coefficients zero so that they do not affect the final outcome of the prediction. As we can see from these results, the predictors left after feature selection are:\n",
    "- PLUS_MINUS\n",
    "- L\n",
    "- W\n",
    "- WIN%\n",
    "- SOS\n",
    "- Home_L\n",
    "- FirstRoundPicks\n",
    "- Home_W"
   ]
  },
  {
   "cell_type": "markdown",
   "metadata": {},
   "source": [
    "Now that I’ve saved the important features, I will run the KNN model using the function in src/model.py, which contains a hyperparameterized KNN pipeline fitted and processed with GridSearchCV. I set it up this way as a best practice: after first running the Elastic Net model to identify and reduce the predictors, I can now apply a stronger model without excessive computation time, since it runs only on the most accurate and viable features."
   ]
  },
  {
   "cell_type": "code",
   "execution_count": 256,
   "metadata": {},
   "outputs": [
    {
     "name": "stdout",
     "output_type": "stream",
     "text": [
      "Fitting 5 folds for each of 48 candidates, totalling 240 fits\n"
     ]
    }
   ],
   "source": [
    "important_features = [f for f, c in zip(all_features, coefficients) if abs(c) > 1e-6]\n",
    "\n",
    "# --- Step 2: Reduce train/test sets to only those features ---\n",
    "X_train_reduced = X_train[important_features].copy()\n",
    "X_test_reduced  = X_test[important_features].copy()\n",
    "\n",
    "# --- Step 3: Build preprocessor for reduced features ---\n",
    "reduced_numeric_features = [col for col in important_features if col in numeric_features]\n",
    "reduced_categorical_features = [col for col in important_features if col in categorical_features]\n",
    "preprocessor_reduced = build_preprocessor(reduced_numeric_features, reduced_categorical_features)\n",
    "\n",
    "# Train KNN with feature weights\n",
    "knn_model = build_knn(\n",
    "    preprocessor_reduced,\n",
    "    X_train_reduced,\n",
    "    y_train\n",
    ")"
   ]
  },
  {
   "cell_type": "markdown",
   "metadata": {},
   "source": [
    "This marks the current end of the ML Model portion of this notebook, the rest will be geared towards understanding the results of the model (accuracy, predictive power, etc.)."
   ]
  },
  {
   "cell_type": "markdown",
   "metadata": {},
   "source": [
    "## Results"
   ]
  },
  {
   "cell_type": "markdown",
   "metadata": {},
   "source": [
    "First, I will test the predictive power with the 2024 NBA Season as testing data."
   ]
  },
  {
   "cell_type": "code",
   "execution_count": 257,
   "metadata": {},
   "outputs": [
    {
     "name": "stderr",
     "output_type": "stream",
     "text": [
      "/var/folders/b8/k6v1k2b945jddf5qjvdvfqwh0000gn/T/ipykernel_98133/3791694751.py:2: SettingWithCopyWarning: \n",
      "A value is trying to be set on a copy of a slice from a DataFrame.\n",
      "Try using .loc[row_indexer,col_indexer] = value instead\n",
      "\n",
      "See the caveats in the documentation: https://pandas.pydata.org/pandas-docs/stable/user_guide/indexing.html#returning-a-view-versus-a-copy\n",
      "  master_test[\"Pred_NWins\"] = knn_model.predict(X_test_reduced)\n"
     ]
    }
   ],
   "source": [
    "# --- Get the predictions ---\n",
    "master_test[\"Pred_NWins\"] = knn_model.predict(X_test_reduced)\n",
    "\n",
    "# Keep only necessary columns\n",
    "results = master_test[[\"Season\", \"Team\", \"W\", \"Pred_NWins\"] + important_features]\n",
    "\n",
    "# Filter for 2023 season\n",
    "results_2023 = results[results[\"Season\"] == 2023].copy()\n",
    "\n",
    "# Drop duplicates by team\n",
    "results_2023 = results_2023.drop_duplicates(subset=[\"Team\"]).reset_index(drop=True)\n",
    "\n",
    "# --- Normalize predictions so league total = 1230 ---\n",
    "total_required_wins = (82 / 2) * 30  # 1230\n",
    "pred_sum = results_2023[\"Pred_NWins\"].sum()\n",
    "scaling_factor = total_required_wins / pred_sum\n",
    "\n",
    "results_2023[\"Pred_NWins\"] = (results_2023[\"Pred_NWins\"] * scaling_factor).round()"
   ]
  },
  {
   "cell_type": "code",
   "execution_count": 258,
   "metadata": {},
   "outputs": [
    {
     "name": "stdout",
     "output_type": "stream",
     "text": [
      "    Season                    Team     W  Pred_NWins     L   WIN%   FG%  \\\n",
      "0     2024           Atlanta Hawks  36.0        39.0  46.0  0.439  46.5   \n",
      "1     2024          Boston Celtics  64.0        56.0  18.0  0.780  48.7   \n",
      "2     2024           Brooklyn Nets  32.0        42.0  50.0  0.390  45.6   \n",
      "3     2024       Charlotte Hornets  21.0        34.0  61.0  0.256  46.0   \n",
      "4     2024           Chicago Bulls  39.0        39.0  43.0  0.476  47.0   \n",
      "5     2024     Cleveland Cavaliers  48.0        47.0  34.0  0.585  47.9   \n",
      "6     2024        Dallas Mavericks  50.0        42.0  32.0  0.610  48.1   \n",
      "7     2024          Denver Nuggets  57.0        44.0  25.0  0.695  49.6   \n",
      "8     2024         Detroit Pistons  14.0        28.0  68.0  0.171  46.3   \n",
      "9     2024   Golden State Warriors  46.0        46.0  36.0  0.561  47.7   \n",
      "10    2024         Houston Rockets  41.0        46.0  41.0  0.500  45.9   \n",
      "11    2024          Indiana Pacers  47.0        46.0  35.0  0.573  50.7   \n",
      "12    2024    Los Angeles Clippers  51.0        43.0  31.0  0.622  48.9   \n",
      "13    2024      Los Angeles Lakers  47.0        45.0  35.0  0.573  49.9   \n",
      "14    2024       Memphis Grizzlies  27.0        30.0  55.0  0.329  43.5   \n",
      "15    2024              Miami Heat  46.0        43.0  36.0  0.561  46.5   \n",
      "16    2024         Milwaukee Bucks  49.0        45.0  33.0  0.598  48.7   \n",
      "17    2024  Minnesota Timberwolves  56.0        41.0  26.0  0.683  48.5   \n",
      "18    2024    New Orleans Pelicans  49.0        47.0  33.0  0.598  48.6   \n",
      "19    2024         New York Knicks  50.0        47.0  32.0  0.610  46.5   \n",
      "20    2024   Oklahoma City Thunder  57.0        44.0  25.0  0.695  49.9   \n",
      "21    2024           Orlando Magic  47.0        44.0  35.0  0.573  47.6   \n",
      "22    2024      Philadelphia 76ers  47.0        54.0  35.0  0.573  46.4   \n",
      "23    2024            Phoenix Suns  49.0        52.0  33.0  0.598  49.3   \n",
      "24    2024  Portland Trail Blazers  21.0        22.0  61.0  0.256  43.9   \n",
      "25    2024        Sacramento Kings  46.0        47.0  36.0  0.561  47.7   \n",
      "26    2024       San Antonio Spurs  22.0        24.0  60.0  0.268  46.2   \n",
      "27    2024         Toronto Raptors  25.0        36.0  57.0  0.305  47.1   \n",
      "28    2024               Utah Jazz  31.0        30.0  51.0  0.378  46.7   \n",
      "29    2024      Washington Wizards  15.0        26.0  67.0  0.183  47.0   \n",
      "\n",
      "    PLUS_MINUS  Home_W  Home_L       SOS  FirstRoundPicks  Pred_Wins  \n",
      "0         -2.2    21.0    20.0  0.494329              1.0       45.0  \n",
      "1         11.3    37.0     4.0  0.482768              1.0       53.0  \n",
      "2         -2.9    20.0    21.0  0.496134              0.0       41.0  \n",
      "3        -10.2    30.0    11.0  0.502390              1.0       25.0  \n",
      "4         -1.4    20.0    21.0  0.489573              1.0       43.0  \n",
      "5          2.4    26.0    15.0  0.486037              1.0       45.0  \n",
      "6          2.2    25.0    16.0  0.499098              0.0       43.0  \n",
      "7          5.3    33.0     8.0  0.496280              1.0       47.0  \n",
      "8         -9.1     7.0    33.0  0.504890              1.0       28.0  \n",
      "9          2.6    21.0    20.0  0.506098              0.0       45.0  \n",
      "10         1.1    27.0    14.0  0.505207              1.0       25.0  \n",
      "11         3.0    26.0    15.0  0.491976              0.0       32.0  \n",
      "12         3.3    25.0    16.0  0.503573              0.0       46.0  \n",
      "13         0.6    28.0    14.0  0.511622              1.0       45.0  \n",
      "14        -7.0     9.0    32.0  0.511171              1.0       46.0  \n",
      "15         1.8    22.0    19.0  0.479768              1.0       42.0  \n",
      "16         2.6    31.0    11.0  0.493732              1.0       54.0  \n",
      "17         6.5    30.0    11.0  0.498805              1.0       46.0  \n",
      "18         4.4    21.0    19.0  0.502659              1.0       45.0  \n",
      "19         4.6    27.0    14.0  0.494780              2.0       44.0  \n",
      "20         7.4    33.0     8.0  0.499110              1.0       43.0  \n",
      "21         2.0    29.0    12.0  0.483207              1.0       32.0  \n",
      "22         3.0    25.0    16.0  0.483341              1.0       46.0  \n",
      "23         3.1    25.0    16.0  0.499829              1.0       46.0  \n",
      "24        -9.0    30.0    11.0  0.522317              2.0       28.0  \n",
      "25         1.7    24.0    17.0  0.516976              1.0       49.0  \n",
      "26        -6.5    29.0    12.0  0.522780              2.0       30.0  \n",
      "27        -6.4    14.0    27.0  0.499988              1.0       43.0  \n",
      "28        -4.9    21.0    20.0  0.519646              2.0       39.0  \n",
      "29        -9.3     7.0    34.0  0.501915              2.0       34.0  \n",
      "Check total: 1229.0\n"
     ]
    }
   ],
   "source": [
    "# --- Get the predictions ---\n",
    "# Filter for 2024 season\n",
    "results_2024 = results[results[\"Season\"] == 2024].copy()\n",
    "\n",
    "# Drop duplicates by team\n",
    "results_2024 = results_2024.drop_duplicates(subset=[\"Team\"]).reset_index(drop=True)\n",
    "\n",
    "# --- Normalize predictions so league total = 1230 ---\n",
    "total_required_wins = (82 / 2) * 30  # 1230\n",
    "pred_sum = results_2024[\"Pred_NWins\"].sum()\n",
    "scaling_factor = total_required_wins / pred_sum\n",
    "\n",
    "results_2024[\"Pred_NWins\"] = (results_2024[\"Pred_NWins\"] * scaling_factor).round()\n",
    "results_2024[\"Pred_Wins\"] = (results_2023[\"Pred_NWins\"])\n",
    "\n",
    "# Drop any duplicate columns just in case\n",
    "results_2024 = results_2024.loc[:, ~results_2024.columns.duplicated()].copy()\n",
    "\n",
    "# --- Output ---\n",
    "print(results_2024)\n",
    "print(\"Check total:\", results_2024[\"Pred_NWins\"].sum())\n"
   ]
  },
  {
   "cell_type": "markdown",
   "metadata": {},
   "source": [
    "Next, I will make the predictions for the 2025-2026 NBA Season, making sure to scale it so that there are the correct amount of wins for league as a whole."
   ]
  },
  {
   "cell_type": "code",
   "execution_count": 259,
   "metadata": {},
   "outputs": [
    {
     "name": "stdout",
     "output_type": "stream",
     "text": [
      "    Season                    Team     W  Pred_NWins     L   WIN%   FG%  \\\n",
      "0     2025           Atlanta Hawks  40.0        40.0  42.0  0.488  47.2   \n",
      "1     2025          Boston Celtics  61.0        51.0  21.0  0.744  46.2   \n",
      "2     2025           Brooklyn Nets  26.0        29.0  56.0  0.317  43.7   \n",
      "3     2025       Charlotte Hornets  19.0        34.0  63.0  0.232  43.0   \n",
      "4     2025           Chicago Bulls  39.0        42.0  43.0  0.476  47.0   \n",
      "5     2025     Cleveland Cavaliers  64.0        55.0  18.0  0.780  49.1   \n",
      "6     2025        Dallas Mavericks  39.0        48.0  43.0  0.476  47.9   \n",
      "7     2025          Denver Nuggets  50.0        46.0  32.0  0.610  50.6   \n",
      "8     2025         Detroit Pistons  44.0        46.0  38.0  0.537  47.6   \n",
      "9     2025   Golden State Warriors  48.0        41.0  34.0  0.585  45.1   \n",
      "10    2025         Houston Rockets  52.0        48.0  30.0  0.634  45.5   \n",
      "11    2025          Indiana Pacers  50.0        44.0  32.0  0.610  48.8   \n",
      "12    2025    Los Angeles Clippers  50.0        46.0  32.0  0.610  48.2   \n",
      "13    2025      Los Angeles Lakers  50.0        45.0  32.0  0.610  47.9   \n",
      "14    2025       Memphis Grizzlies  48.0        50.0  34.0  0.585  47.9   \n",
      "15    2025              Miami Heat  37.0        41.0  45.0  0.451  46.5   \n",
      "16    2025         Milwaukee Bucks  48.0        43.0  34.0  0.585  48.6   \n",
      "17    2025  Minnesota Timberwolves  49.0        48.0  33.0  0.598  46.8   \n",
      "18    2025    New Orleans Pelicans  21.0        29.0  61.0  0.256  45.2   \n",
      "19    2025         New York Knicks  51.0        47.0  31.0  0.622  48.6   \n",
      "20    2025   Oklahoma City Thunder  68.0        50.0  14.0  0.829  48.2   \n",
      "21    2025           Orlando Magic  41.0        35.0  41.0  0.500  44.5   \n",
      "22    2025      Philadelphia 76ers  24.0        32.0  58.0  0.293  45.4   \n",
      "23    2025            Phoenix Suns  36.0        40.0  46.0  0.439  47.8   \n",
      "24    2025  Portland Trail Blazers  36.0        38.0  46.0  0.439  45.0   \n",
      "25    2025        Sacramento Kings  40.0        48.0  42.0  0.488  47.8   \n",
      "26    2025       San Antonio Spurs  34.0        31.0  48.0  0.415  46.5   \n",
      "27    2025         Toronto Raptors  30.0        36.0  52.0  0.366  45.8   \n",
      "28    2025               Utah Jazz  17.0        23.0  65.0  0.207  45.4   \n",
      "29    2025      Washington Wizards  18.0        25.0  64.0  0.220  43.9   \n",
      "\n",
      "    PLUS_MINUS  Home_W  Home_L       SOS  FirstRoundPicks  Pred_Wins  \n",
      "0         -1.1    21.0    19.0  0.495012              2.0       39.0  \n",
      "1          9.1    28.0    13.0  0.479110              1.0       56.0  \n",
      "2         -7.1    29.0    12.0  0.507207              4.0       42.0  \n",
      "3         -9.1    29.0    12.0  0.504085              1.0       34.0  \n",
      "4         -1.6    18.0    23.0  0.495756              1.0       39.0  \n",
      "5          9.5    34.0     7.0  0.482854              0.0       47.0  \n",
      "6         -1.2    22.0    18.0  0.509256              1.0       42.0  \n",
      "7          3.9    26.0    15.0  0.498866              0.0       44.0  \n",
      "8          1.9    22.0    19.0  0.499610              0.0       28.0  \n",
      "9          3.3    24.0    17.0  0.504390              0.0       46.0  \n",
      "10         4.5    29.0    12.0  0.507939              1.0       46.0  \n",
      "11         2.2    29.0    12.0  0.485488              1.0       46.0  \n",
      "12         4.7    30.0    11.0  0.503024              1.0       43.0  \n",
      "13         1.2    31.0    10.0  0.499159              0.0       45.0  \n",
      "14         4.9    26.0    15.0  0.497537              1.0       30.0  \n",
      "15         0.6    19.0    22.0  0.493256              1.0       43.0  \n",
      "16         2.5    28.0    14.0  0.492805              0.0       45.0  \n",
      "17         5.0    25.0    16.0  0.503012              1.0       41.0  \n",
      "18        -9.4    14.0    27.0  0.520585              1.0       47.0  \n",
      "19         4.1    27.0    14.0  0.488927              0.0       47.0  \n",
      "20        12.9    36.0     6.0  0.492037              2.0       44.0  \n",
      "21        -0.1    22.0    19.0  0.486695              1.0       44.0  \n",
      "22        -6.2    29.0    12.0  0.503037              1.0       54.0  \n",
      "23        -3.0    24.0    17.0  0.508244              1.0       52.0  \n",
      "24        -3.0    22.0    19.0  0.504829              1.0       22.0  \n",
      "25         0.5    20.0    21.0  0.501098              0.0       47.0  \n",
      "26        -2.8    20.0    21.0  0.505402              2.0       24.0  \n",
      "27        -4.3    18.0    23.0  0.500817              1.0       36.0  \n",
      "28        -9.3    31.0    10.0  0.521793              2.0       30.0  \n",
      "29       -12.4     8.0    33.0  0.510171              2.0       26.0  \n",
      "Check total: 1231.0\n"
     ]
    }
   ],
   "source": [
    "# get the predictions\n",
    "results_2025 = results[results[\"Season\"] == 2025].copy()\n",
    "results_2025 = results_2025.drop_duplicates(subset=[\"Team\"]).reset_index(drop=True)\n",
    "\n",
    "total_required_wins = (82 / 2) * 30\n",
    "pred_sum = results_2025[\"Pred_NWins\"].sum()\n",
    "scaling_factor = total_required_wins / pred_sum\n",
    "\n",
    "# replace Pred_NWins with normalized version\n",
    "results_2025[\"Pred_NWins\"] = (results_2025[\"Pred_NWins\"] * scaling_factor).round()\n",
    "results_2025[\"Pred_Wins\"] = (results_2024[\"Pred_NWins\"])\n",
    "\n",
    "results_2025 = results_2025.loc[:, ~results_2025.columns.duplicated()].copy()\n",
    "\n",
    "print(results_2025)\n",
    "print(\"Check total:\", results_2025[\"Pred_NWins\"].sum()) "
   ]
  },
  {
   "cell_type": "markdown",
   "metadata": {},
   "source": []
  },
  {
   "cell_type": "markdown",
   "metadata": {},
   "source": [
    "### Summary Figures"
   ]
  },
  {
   "cell_type": "code",
   "execution_count": 260,
   "metadata": {},
   "outputs": [
    {
     "name": "stdout",
     "output_type": "stream",
     "text": [
      "Accuracy on 2025 season (±10 wins): 63.33%\n",
      "Accuracy on 2024 season (±10 wins): 70.00%\n",
      "Saved combined results with accuracy for 2024 and 2025.\n"
     ]
    }
   ],
   "source": [
    "import pandas as pd\n",
    "\n",
    "# --- Step 2: Calculate accuracy and add to DataFrame ---\n",
    "def calculate_accuracy(df: pd.DataFrame, threshold: int, save_path: str | None = None) -> pd.DataFrame:\n",
    "    df = df.copy()\n",
    "    df[\"within_threshold\"] = (df[\"Pred_Wins\"] - df[\"W\"]).abs() <= threshold\n",
    "    accuracy = df[\"within_threshold\"].mean()\n",
    "\n",
    "    print(f\"Accuracy on {df['Season'].iloc[0]} season (±{threshold} wins): {accuracy:.2%}\")\n",
    "\n",
    "    # Save updated results with accuracy column if path provided\n",
    "    if save_path:\n",
    "        df.to_csv(save_path, index=False)\n",
    "        print(f\"Saved results with accuracy to {save_path}\")\n",
    "\n",
    "    return df\n",
    "\n",
    "# Run calculations\n",
    "results_2025 = calculate_accuracy(results_2025, threshold=10)\n",
    "results_2024 = calculate_accuracy(results_2024, threshold=10)\n",
    "\n",
    "# Combine into one file\n",
    "combined = pd.concat([results_2024, results_2025], ignore_index=True)\n",
    "combined.to_csv(\n",
    "    \"/Users/trustanprice/Desktop/Personal/Basketball-Predictions/data/raw/master-stats/test_results.csv\",\n",
    "    index=False\n",
    ")\n",
    "print(\"Saved combined results with accuracy for 2024 and 2025.\")\n"
   ]
  },
  {
   "cell_type": "markdown",
   "metadata": {},
   "source": []
  },
  {
   "cell_type": "markdown",
   "metadata": {},
   "source": [
    "### Serialize Results"
   ]
  },
  {
   "cell_type": "code",
   "execution_count": 261,
   "metadata": {},
   "outputs": [],
   "source": [
    "# # Save as normal CSV\n",
    "# results_2025.to_csv(\"/Users/trustanprice/Desktop/Personal/Basketball-Predictions/data/raw/master-stats/results_2025.csv\", index=False)\n",
    "\n",
    "# # Save as gzip-compressed CSV\n",
    "# results_2025.to_csv(\"/Users/trustanprice/Desktop/Personal/Basketball-Predictions/data/processed/master-data/results_2025.csv.gz\", index=False, compression=\"gzip\")"
   ]
  },
  {
   "cell_type": "markdown",
   "metadata": {},
   "source": [
    "## Discussion"
   ]
  },
  {
   "cell_type": "markdown",
   "metadata": {},
   "source": [
    "I currently have a lot to work on left for the predictive power of this model; however, I am happy with where I have gotten in the span of less than a week! In the future, I will look to try and use Strength of Schedule as a better predictive element; to explain, currently the model is predicting off of previous seasons SOS when it should be using the next seasons strength of schedule calculated by how good the team was in the previous year.\n",
    "\n",
    "Looking back, I am happy I was able to tune the model as much as I was, but when I come back I will do much more feature and data processing engineering. I am excited for whats to come and hopefully anyone reading this is able to enjoy the project for what it is currently!\n",
    "\n",
    "#### LeBron James is the GOAT"
   ]
  }
 ],
 "metadata": {
  "language_info": {
   "name": "python"
  }
 },
 "nbformat": 4,
 "nbformat_minor": 2
}
