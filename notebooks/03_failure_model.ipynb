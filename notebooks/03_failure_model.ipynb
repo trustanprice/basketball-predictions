{
 "cells": [
  {
   "cell_type": "markdown",
   "metadata": {},
   "source": [
    "# Model Creation"
   ]
  },
  {
   "cell_type": "markdown",
   "metadata": {},
   "source": [
    "## Introduction"
   ]
  },
  {
   "cell_type": "markdown",
   "metadata": {},
   "source": [
    "Welcome to the prediction model creation portion of my basketball prediction project. This will be the last notebook in the step to having a complete prediction model with manually scraped and pruned data. In the future, I will need to create the failure model that will be able to take these predictions and use a confidence interval to flag a team as a fail if they lose too many games and not failed if they win enough."
   ]
  },
  {
   "cell_type": "markdown",
   "metadata": {},
   "source": [
    "## Methods"
   ]
  },
  {
   "cell_type": "code",
   "execution_count": 57,
   "metadata": {},
   "outputs": [],
   "source": [
    "# imports\n",
    "import pandas as pd\n",
    "\n",
    "# machine learning imports\n",
    "from sklearn.linear_model import LinearRegression\n",
    "from sklearn.neighbors import KNeighborsRegressor\n",
    "from sklearn.tree import DecisionTreeRegressor\n",
    "from sklearn.neural_network import MLPRegressor\n",
    "\n",
    "# model selection\n",
    "from sklearn.model_selection import GridSearchCV\n",
    " \n",
    "# data preprocessing\n",
    "from sklearn.pipeline import make_pipeline\n",
    "from sklearn.compose import make_column_transformer\n",
    "from sklearn.impute import SimpleImputer\n",
    "from sklearn.preprocessing import RobustScaler, OneHotEncoder\n",
    "\n",
    "# src imports\n",
    "from src.model import build_preprocessor, build_elasticnet, build_knn"
   ]
  },
  {
   "cell_type": "markdown",
   "metadata": {},
   "source": [
    "### Data"
   ]
  },
  {
   "cell_type": "code",
   "execution_count": 58,
   "metadata": {},
   "outputs": [
    {
     "name": "stdout",
     "output_type": "stream",
     "text": [
      "   Season                   Team  GP     W     L   WIN%   Min    PTS   FGM  \\\n",
      "0    2025  Oklahoma City Thunder  82  68.0  14.0  0.829  48.1  120.5  44.6   \n",
      "1    2025  Oklahoma City Thunder  82  68.0  14.0  0.829  48.1  120.5  44.6   \n",
      "2    2025  Oklahoma City Thunder  82  68.0  14.0  0.829  48.1  120.5  44.6   \n",
      "3    2025    Cleveland Cavaliers  82  64.0  18.0  0.780  48.2  121.9  44.5   \n",
      "4    2025    Cleveland Cavaliers  82  64.0  18.0  0.780  48.2  121.9  44.5   \n",
      "\n",
      "    FGA  ...            Coach  Yw/Franch  YOverall  CareerW  CareerL  \\\n",
      "0  92.7  ...  Mark Daigneault          5         5      211      189   \n",
      "1  92.7  ...  Mark Daigneault          5         5      211      189   \n",
      "2  92.7  ...  Mark Daigneault          5         5      211      189   \n",
      "3  90.8  ...   Kenny Atkinson          1         5      182      208   \n",
      "4  90.8  ...   Kenny Atkinson          1         5      182      208   \n",
      "\n",
      "   CareerW%  Pk  Coach_Count      Payroll  NWins  \n",
      "0     0.528  15            1  166418720.0    NaN  \n",
      "1     0.528  24            1  166418720.0    NaN  \n",
      "2     0.528  44            1  166418720.0    NaN  \n",
      "3     0.467  49            1  165110486.0    NaN  \n",
      "4     0.467  58            1  165110486.0    NaN  \n",
      "\n",
      "[5 rows x 56 columns]\n"
     ]
    }
   ],
   "source": [
    "# load data\n",
    "master_df = pd.read_csv(\"/Users/trustanprice/Desktop/Personal/Basketball-Predictions/data/raw/master-stats/master_df.csv\")\n",
    "print(master_df.head())"
   ]
  },
  {
   "cell_type": "markdown",
   "metadata": {},
   "source": [
    "I will now create the training and testing data, making the training data 2016-2023 seasons (8 seasons) and the testing data 2024/2025 seasons (2 seasons). I am doing it like this because I am predicting for the seasons to come; therefore, I am trying to replicate the traditional 80/20 split while making it a time-based split."
   ]
  },
  {
   "cell_type": "code",
   "execution_count": 59,
   "metadata": {},
   "outputs": [
    {
     "name": "stdout",
     "output_type": "stream",
     "text": [
      "Train shape: (515, 56)\n",
      "Test shape: (132, 56)\n"
     ]
    }
   ],
   "source": [
    "# train/test split\n",
    "master_test = master_df[master_df[\"Season\"].isin([2024, 2025])]\n",
    "master_train = master_df[~master_df[\"Season\"].isin([2024, 2025])]\n",
    "\n",
    "print(\"Train shape:\", master_train.shape)\n",
    "print(\"Test shape:\", master_test.shape)"
   ]
  },
  {
   "cell_type": "code",
   "execution_count": 60,
   "metadata": {},
   "outputs": [],
   "source": [
    "# Numeric features (continuous or counts)\n",
    "numeric_features = [\n",
    "    \"GP\", \"W\", \"L\", \"WIN%\", \"Min\", \"PTS\", \"FGM\", \"FGA\", \"FG%\",\n",
    "    \"3PM\", \"3PA\", \"3P%\", \"FTM\", \"FTA\", \"FT%\", \"OREB\", \"DREB\",\n",
    "    \"REB\", \"AST\", \"TOV\", \"STL\", \"BLK\", \"BLKA\", \"PF\", \"PFD\",\n",
    "    \"PLUS_MINUS\", \"Home_W\", \"Home_L\", \"Road_W\", \"Road_L\",\n",
    "    \"E_W\", \"E_L\", \"W_W\", \"W_L\", \"Pre-ASG_W\", \"Pre-ASG_L\",\n",
    "    \"Post-ASG_W\", \"Post-ASG_L\", \"SOS\", \"Yw/Franch\", \"YOverall\",\n",
    "    \"CareerW\", \"CareerL\", \"CareerW%\", \"Pk\", \"Coach_Count\", \"Payroll\",\n",
    "    \n",
    "    # Player-aggregated features\n",
    "    \"avg_age\", \"avg_pts_top10\", \"avg_production_score\", \"injury_rate\"\n",
    "]\n",
    "\n",
    "# Categorical features (labels, identifiers, strings)\n",
    "categorical_features = [\n",
    "    \"Season\"\n",
    "]\n",
    "\n",
    "# Define target column (predict next season’s wins)\n",
    "target_column = \"NWins\""
   ]
  },
  {
   "cell_type": "markdown",
   "metadata": {},
   "source": [
    "### Models"
   ]
  },
  {
   "cell_type": "code",
   "execution_count": 61,
   "metadata": {},
   "outputs": [],
   "source": [
    "# --- Training data ---\n",
    "X_train = master_train.drop(columns=[\"NWins\"])   # drop target column\n",
    "y_train = master_train[\"NWins\"]                  # target = next season wins\n",
    "\n",
    "# --- Testing data ---\n",
    "X_test = master_test.drop(columns=[\"NWins\"])     # drop target column\n",
    "y_test = master_test[\"NWins\"]                    # target = next season wins (NaN for 2025)"
   ]
  },
  {
   "cell_type": "markdown",
   "metadata": {},
   "source": []
  },
  {
   "cell_type": "code",
   "execution_count": 62,
   "metadata": {},
   "outputs": [
    {
     "name": "stdout",
     "output_type": "stream",
     "text": [
      "Fitting 10 folds for each of 12 candidates, totalling 120 fits\n"
     ]
    }
   ],
   "source": [
    "# build preprocessor for reduced features\n",
    "preprocessor = build_preprocessor(numeric_features, categorical_features)\n",
    "\n",
    "# choose a model\n",
    "elasticnet_model = build_elasticnet(preprocessor, X_train, y_train)"
   ]
  },
  {
   "cell_type": "code",
   "execution_count": 63,
   "metadata": {},
   "outputs": [
    {
     "name": "stdout",
     "output_type": "stream",
     "text": [
      "                 Feature  Coefficient\n",
      "25            PLUS_MINUS     3.011835\n",
      "38                   SOS    -1.342478\n",
      "2                      L    -1.220410\n",
      "1                      W     1.219661\n",
      "3                   WIN%     1.219532\n",
      "20                   STL     0.565105\n",
      "4                    Min     0.333147\n",
      "12                   FTM     0.150562\n",
      "27                Home_L    -0.074596\n",
      "43              CareerW%    -0.000000\n",
      "37            Post-ASG_L     0.000000\n",
      "36            Post-ASG_W    -0.000000\n",
      "35             Pre-ASG_L    -0.000000\n",
      "39             Yw/Franch    -0.000000\n",
      "40              YOverall     0.000000\n",
      "41               CareerW    -0.000000\n",
      "42               CareerL     0.000000\n",
      "0                     GP    -0.000000\n",
      "46               Payroll    -0.000000\n",
      "44                    Pk     0.000000\n",
      "45           Coach_Count    -0.000000\n",
      "33                   W_L    -0.000000\n",
      "47               avg_age    -0.000000\n",
      "48         avg_pts_top10    -0.000000\n",
      "49  avg_production_score     0.000000\n",
      "50           injury_rate    -0.000000\n",
      "51           Season_2017     0.000000\n",
      "52           Season_2018     0.000000\n",
      "53           Season_2019    -0.000000\n",
      "54           Season_2020     0.000000\n"
     ]
    }
   ],
   "source": [
    "# --- Get feature importances (coefficients) ---\n",
    "best_pipeline = elasticnet_model.best_estimator_\n",
    "\n",
    "# 1. Get one-hot encoder feature names\n",
    "cat_ohe = best_pipeline.named_steps['columntransformer'] \\\n",
    "    .named_transformers_['pipeline-2'] \\\n",
    "    .named_steps['onehotencoder'] \\\n",
    "    .get_feature_names_out(categorical_features)\n",
    "\n",
    "# 2. Combine numeric + categorical feature names\n",
    "all_features = numeric_features + list(cat_ohe)\n",
    "\n",
    "# 3. Get coefficients\n",
    "coefficients = best_pipeline.named_steps['elasticnet'].coef_\n",
    "\n",
    "feature_importance = pd.DataFrame({\n",
    "    \"Feature\": all_features,\n",
    "    \"Coefficient\": coefficients\n",
    "}).sort_values(by=\"Coefficient\", key=abs, ascending=False)\n",
    "\n",
    "print(feature_importance.head(30))  # top 15 features\n"
   ]
  },
  {
   "cell_type": "code",
   "execution_count": 64,
   "metadata": {},
   "outputs": [
    {
     "name": "stdout",
     "output_type": "stream",
     "text": [
      "Selected features: ['W', 'L', 'WIN%', 'Min', 'FTM', 'STL', 'PLUS_MINUS', 'Home_L', 'SOS']\n",
      "Reduced train shape: (515, 9)\n",
      "Reduced test shape: (132, 9)\n"
     ]
    }
   ],
   "source": [
    "# --- Step 2: Keep only non-zero features ---\n",
    "important_features = [\n",
    "    f for f, c in zip(all_features, coefficients) if abs(c) > 1e-6\n",
    "]\n",
    "\n",
    "print(\"Selected features:\", important_features)\n",
    "\n",
    "# --- Step 3: Reduce train/test sets ---\n",
    "X_train_reduced = X_train[important_features].copy()\n",
    "X_test_reduced = X_test[important_features].copy()\n",
    "\n",
    "print(\"Reduced train shape:\", X_train_reduced.shape)\n",
    "print(\"Reduced test shape:\", X_test_reduced.shape)"
   ]
  },
  {
   "cell_type": "code",
   "execution_count": 65,
   "metadata": {},
   "outputs": [
    {
     "name": "stdout",
     "output_type": "stream",
     "text": [
      "Fitting 10 folds for each of 48 candidates, totalling 480 fits\n"
     ]
    }
   ],
   "source": [
    "\n",
    "# get reduced features from your selection step\n",
    "reduced_numeric_features = [col for col in X_train_reduced.columns if col in numeric_features]\n",
    "reduced_categorical_features = [col for col in X_train_reduced.columns if col in categorical_features]\n",
    "\n",
    "preprocessor_reduced = build_preprocessor(reduced_numeric_features, reduced_categorical_features)\n",
    "\n",
    "knn_model = build_knn(preprocessor_reduced, X_train_reduced, y_train)"
   ]
  },
  {
   "cell_type": "markdown",
   "metadata": {},
   "source": []
  },
  {
   "cell_type": "markdown",
   "metadata": {},
   "source": [
    "## Results"
   ]
  },
  {
   "cell_type": "code",
   "execution_count": 66,
   "metadata": {},
   "outputs": [
    {
     "data": {
      "text/html": [
       "<div>\n",
       "<style scoped>\n",
       "    .dataframe tbody tr th:only-of-type {\n",
       "        vertical-align: middle;\n",
       "    }\n",
       "\n",
       "    .dataframe tbody tr th {\n",
       "        vertical-align: top;\n",
       "    }\n",
       "\n",
       "    .dataframe thead th {\n",
       "        text-align: right;\n",
       "    }\n",
       "</style>\n",
       "<table border=\"1\" class=\"dataframe\">\n",
       "  <thead>\n",
       "    <tr style=\"text-align: right;\">\n",
       "      <th></th>\n",
       "      <th>n_neighbors</th>\n",
       "      <th>p</th>\n",
       "      <th>mean_test_rmse</th>\n",
       "      <th>std_test_rmse</th>\n",
       "      <th>rank_test_score</th>\n",
       "    </tr>\n",
       "  </thead>\n",
       "  <tbody>\n",
       "    <tr>\n",
       "      <th>47</th>\n",
       "      <td>10</td>\n",
       "      <td>2</td>\n",
       "      <td>8.931255</td>\n",
       "      <td>1.829801</td>\n",
       "      <td>1</td>\n",
       "    </tr>\n",
       "    <tr>\n",
       "      <th>13</th>\n",
       "      <td>10</td>\n",
       "      <td>1</td>\n",
       "      <td>8.931255</td>\n",
       "      <td>1.829801</td>\n",
       "      <td>1</td>\n",
       "    </tr>\n",
       "    <tr>\n",
       "      <th>15</th>\n",
       "      <td>10</td>\n",
       "      <td>2</td>\n",
       "      <td>8.931255</td>\n",
       "      <td>1.829801</td>\n",
       "      <td>1</td>\n",
       "    </tr>\n",
       "    <tr>\n",
       "      <th>31</th>\n",
       "      <td>10</td>\n",
       "      <td>2</td>\n",
       "      <td>9.081091</td>\n",
       "      <td>1.878438</td>\n",
       "      <td>4</td>\n",
       "    </tr>\n",
       "    <tr>\n",
       "      <th>29</th>\n",
       "      <td>10</td>\n",
       "      <td>1</td>\n",
       "      <td>9.081091</td>\n",
       "      <td>1.878438</td>\n",
       "      <td>4</td>\n",
       "    </tr>\n",
       "  </tbody>\n",
       "</table>\n",
       "</div>"
      ],
      "text/plain": [
       "    n_neighbors  p  mean_test_rmse  std_test_rmse  rank_test_score\n",
       "47           10  2        8.931255       1.829801                1\n",
       "13           10  1        8.931255       1.829801                1\n",
       "15           10  2        8.931255       1.829801                1\n",
       "31           10  2        9.081091       1.878438                4\n",
       "29           10  1        9.081091       1.878438                4"
      ]
     },
     "execution_count": 66,
     "metadata": {},
     "output_type": "execute_result"
    }
   ],
   "source": [
    "# report model metrics\n",
    "cv_results = pd.DataFrame(knn_model.cv_results_)\n",
    "\n",
    "cv_results = cv_results[\n",
    "    [\n",
    "        \"param_kneighborsregressor__n_neighbors\",\n",
    "        \"param_kneighborsregressor__p\",\n",
    "        \"mean_test_score\",\n",
    "        \"std_test_score\",\n",
    "        \"rank_test_score\",\n",
    "    ]\n",
    "].sort_values(by=\"rank_test_score\")\n",
    "\n",
    "cv_results.columns = [\n",
    "    \"n_neighbors\",\n",
    "    \"p\",\n",
    "    \"mean_test_rmse\",\n",
    "    \"std_test_rmse\",\n",
    "    \"rank_test_score\",\n",
    "]\n",
    "\n",
    "cv_results[\"mean_test_rmse\"] = -cv_results[\"mean_test_rmse\"]\n",
    "\n",
    "cv_results.head()\n"
   ]
  },
  {
   "cell_type": "code",
   "execution_count": 67,
   "metadata": {},
   "outputs": [
    {
     "name": "stdout",
     "output_type": "stream",
     "text": [
      "       W      NWins  Season                    Team\n",
      "0   68.0  49.724750    2025   Oklahoma City Thunder\n",
      "1   64.0  49.464971    2025     Cleveland Cavaliers\n",
      "2   61.0  51.591667    2025          Boston Celtics\n",
      "3   52.0  48.722488    2025         Houston Rockets\n",
      "4   51.0  46.960380    2025         New York Knicks\n",
      "5   50.0  41.732522    2025          Indiana Pacers\n",
      "6   50.0  46.496481    2025    Los Angeles Clippers\n",
      "7   49.0  50.896277    2025  Minnesota Timberwolves\n",
      "8   48.0  43.753867    2025   Golden State Warriors\n",
      "9   48.0  51.510377    2025       Memphis Grizzlies\n",
      "10  48.0  45.572334    2025         Milwaukee Bucks\n",
      "11  44.0  39.702885    2025         Detroit Pistons\n",
      "12  41.0  47.215597    2025           Orlando Magic\n",
      "13  40.0  54.608953    2025           Atlanta Hawks\n",
      "14  40.0  43.453704    2025        Sacramento Kings\n",
      "15  39.0  36.213564    2025           Chicago Bulls\n",
      "16  39.0  45.667655    2025        Dallas Mavericks\n",
      "17  37.0  29.523473    2025              Miami Heat\n",
      "18  36.0  34.181721    2025            Phoenix Suns\n",
      "19  36.0  36.046294    2025  Portland Trail Blazers\n",
      "20  34.0  30.358647    2025       San Antonio Spurs\n",
      "21  30.0  44.375451    2025         Toronto Raptors\n",
      "22  26.0  34.749642    2025           Brooklyn Nets\n",
      "23  24.0  40.726059    2025      Philadelphia 76ers\n",
      "24  21.0  27.900110    2025    New Orleans Pelicans\n",
      "25  19.0  36.195514    2025       Charlotte Hornets\n",
      "26  18.0  20.398224    2025      Washington Wizards\n",
      "27  17.0  19.404619    2025               Utah Jazz\n"
     ]
    }
   ],
   "source": [
    "# --- Step 1: Get 2025 teams ---\n",
    "test_2025 = master_df[master_df[\"Season\"] == 2025].copy()\n",
    "\n",
    "# --- Step 2: Drop target (NWins) ---\n",
    "X_2025 = test_2025.drop(columns=[\"NWins\"], errors=\"ignore\")\n",
    "\n",
    "# --- Step 3: Predict with trained KNN model ---\n",
    "test_2025[\"NWins\"] = knn_model.predict(X_2025)\n",
    "\n",
    "# --- Step 4: Select only required columns ---\n",
    "results_2025 = test_2025[[\"W\", \"NWins\", \"Season\", \"Team\"]]\n",
    "\n",
    "# --- Step 5: Drop duplicates by team ---\n",
    "results_2025 = results_2025.drop_duplicates(subset=[\"Team\"]).reset_index(drop=True)\n",
    "\n",
    "print(results_2025)\n"
   ]
  },
  {
   "cell_type": "markdown",
   "metadata": {},
   "source": []
  },
  {
   "cell_type": "code",
   "execution_count": 69,
   "metadata": {},
   "outputs": [],
   "source": [
    "# summary figure"
   ]
  },
  {
   "cell_type": "markdown",
   "metadata": {},
   "source": []
  },
  {
   "cell_type": "code",
   "execution_count": 70,
   "metadata": {},
   "outputs": [],
   "source": [
    "# serialize model"
   ]
  },
  {
   "cell_type": "markdown",
   "metadata": {},
   "source": [
    "## Discussion"
   ]
  },
  {
   "cell_type": "markdown",
   "metadata": {},
   "source": []
  }
 ],
 "metadata": {
  "language_info": {
   "name": "python"
  }
 },
 "nbformat": 4,
 "nbformat_minor": 2
}
