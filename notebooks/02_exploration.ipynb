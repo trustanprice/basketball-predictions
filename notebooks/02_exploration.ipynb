{
 "cells": [
  {
   "cell_type": "markdown",
   "metadata": {},
   "source": [
    "# Exploration Notebook"
   ]
  },
  {
   "cell_type": "markdown",
   "metadata": {},
   "source": [
    "## Learning the Dataset"
   ]
  },
  {
   "cell_type": "markdown",
   "metadata": {},
   "source": [
    "Welcome to my exploration notebook for my basketball predictions project! This is where I will take time to learn more about the master datasets I hae created; moreover, my goal is to understand more about the data than what is on the surface through summary statistic and exploratory visualization methods."
   ]
  },
  {
   "cell_type": "markdown",
   "metadata": {},
   "source": [
    "## Methods"
   ]
  },
  {
   "cell_type": "code",
   "execution_count": 12,
   "metadata": {},
   "outputs": [],
   "source": [
    "# imports\n",
    "import pandas as pd"
   ]
  },
  {
   "cell_type": "markdown",
   "metadata": {},
   "source": []
  },
  {
   "cell_type": "markdown",
   "metadata": {},
   "source": [
    "### Data"
   ]
  },
  {
   "cell_type": "code",
   "execution_count": 13,
   "metadata": {},
   "outputs": [
    {
     "name": "stdout",
     "output_type": "stream",
     "text": [
      "   Season                   Team  GP   W   L   WIN%   Min    PTS   FGM   FGA  \\\n",
      "0    2025  Oklahoma City Thunder  82  68  14  0.829  48.1  120.5  44.6  92.7   \n",
      "1    2025  Oklahoma City Thunder  82  68  14  0.829  48.1  120.5  44.6  92.7   \n",
      "2    2025  Oklahoma City Thunder  82  68  14  0.829  48.1  120.5  44.6  92.7   \n",
      "3    2025    Cleveland Cavaliers  82  64  18  0.780  48.2  121.9  44.5  90.8   \n",
      "4    2025    Cleveland Cavaliers  82  64  18  0.780  48.2  121.9  44.5  90.8   \n",
      "\n",
      "   ...       SOS            Coach  Yw/Franch  YOverall  CareerW  CareerL  \\\n",
      "0  ...  0.487557  Mark Daigneault          5         5      211      189   \n",
      "1  ...  0.487557  Mark Daigneault          5         5      211      189   \n",
      "2  ...  0.487557  Mark Daigneault          5         5      211      189   \n",
      "3  ...  0.479675   Kenny Atkinson          1         5      182      208   \n",
      "4  ...  0.479675   Kenny Atkinson          1         5      182      208   \n",
      "\n",
      "   CareerW%  Pk  Coach_Count      Payroll  \n",
      "0     0.528  15            1  166418720.0  \n",
      "1     0.528  24            1  166418720.0  \n",
      "2     0.528  44            1  166418720.0  \n",
      "3     0.467  49            1  165110486.0  \n",
      "4     0.467  58            1  165110486.0  \n",
      "\n",
      "[5 rows x 51 columns]\n"
     ]
    }
   ],
   "source": [
    "# load data\n",
    "master_df = pd.read_csv(\"/Users/trustanprice/Desktop/Personal/Basketball-Predictions/data/raw/master-stats/master_df.csv\")\n",
    "print(master_df.head())"
   ]
  },
  {
   "cell_type": "code",
   "execution_count": 14,
   "metadata": {},
   "outputs": [],
   "source": [
    "# summary statistics"
   ]
  },
  {
   "cell_type": "markdown",
   "metadata": {},
   "source": []
  },
  {
   "cell_type": "code",
   "execution_count": 15,
   "metadata": {},
   "outputs": [],
   "source": [
    "# exploratory visualization"
   ]
  },
  {
   "cell_type": "markdown",
   "metadata": {},
   "source": []
  }
 ],
 "metadata": {
  "language_info": {
   "name": "python"
  }
 },
 "nbformat": 4,
 "nbformat_minor": 2
}
