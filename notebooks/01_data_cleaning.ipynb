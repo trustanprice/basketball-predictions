{
 "cells": [
  {
   "cell_type": "markdown",
   "metadata": {},
   "source": [
    "# Data Cleaning Notebook"
   ]
  },
  {
   "cell_type": "code",
   "execution_count": 1,
   "metadata": {},
   "outputs": [],
   "source": [
    "# reference source code\n",
    "import sys, os\n",
    "sys.path.append(os.path.abspath(\"..\"))"
   ]
  },
  {
   "cell_type": "code",
   "execution_count": 2,
   "metadata": {},
   "outputs": [],
   "source": [
    "# data cleaning and creation imports\n",
    "import pandas as pd\n",
    "import os\n",
    "import glob\n",
    "import itertools\n",
    "\n",
    "# mitigate warnings\n",
    "import warnings\n",
    "warnings.filterwarnings(\"ignore\")\n",
    "\n",
    "# internal imports\n",
    "from src.utils import nba_teams, team_map\n",
    "from src.data_loader import *\n"
   ]
  },
  {
   "cell_type": "markdown",
   "metadata": {},
   "source": [
    "### Utils Direcrtory Checks"
   ]
  },
  {
   "cell_type": "code",
   "execution_count": 3,
   "metadata": {},
   "outputs": [
    {
     "name": "stdout",
     "output_type": "stream",
     "text": [
      "30\n",
      "Los Angeles Lakers\n"
     ]
    }
   ],
   "source": [
    "print(len(nba_teams))   # should be 30\n",
    "print(team_map[\"LAL\"])  # \"Los Angeles Lakers\""
   ]
  },
  {
   "cell_type": "markdown",
   "metadata": {},
   "source": [
    "## Creating Compressed Data"
   ]
  },
  {
   "cell_type": "code",
   "execution_count": 4,
   "metadata": {},
   "outputs": [],
   "source": [
    "# # THE CODE TO CREATE POROCESSED GZIP FILES\n",
    "# root_dir = \"/Users/trustanprice/Desktop/Personal/Basketball-Predictions/data/raw/team-stats\"\n",
    "\n",
    "# for subdir, _, files in os.walk(root_dir):\n",
    "#     for file in files:\n",
    "#         if file.endswith(\".csv\"):\n",
    "#             file_path = os.path.join(subdir, file)\n",
    "#             gz_path = file_path + \".gz\"\n",
    "\n",
    "#             try:\n",
    "#                 df = pd.read_csv(file_path)\n",
    "\n",
    "#                 if df.empty:\n",
    "#                     print(f\"Skipping empty file: {file_path}\")\n",
    "#                     continue\n",
    "\n",
    "#                 print(f\"Compressing {file_path} -> {gz_path}\")\n",
    "#                 df.to_csv(gz_path, index=False, compression=\"gzip\")\n",
    "\n",
    "#             except pd.errors.EmptyDataError:\n",
    "#                 print(f\"Skipping empty file (no data): {file_path}\")\n"
   ]
  },
  {
   "cell_type": "markdown",
   "metadata": {},
   "source": [
    "## CSV Cleaning"
   ]
  },
  {
   "cell_type": "markdown",
   "metadata": {},
   "source": [
    "For each csv file, I have already gone in and manually lightly cleaned the data with Microsoft Excel; however, for deeper cleaning I will use python libraries here in this ipynb file.\n",
    "\n",
    "In Microsoft Excel, I:\n",
    "- eliminated unnecessary rows and columns from the dataset\n",
    "- added in the columns necessary for aggregation and merging\n",
    "- formatted everything correctly to prepare it for python data manipulation"
   ]
  },
  {
   "cell_type": "code",
   "execution_count": 5,
   "metadata": {},
   "outputs": [],
   "source": [
    "team_records_df = load_team_records()"
   ]
  },
  {
   "cell_type": "markdown",
   "metadata": {},
   "source": [
    "For this team_records_df, I need to make it so that the wins and loss columns are separated. This has been moved from the notebook and done in data_loader.py."
   ]
  },
  {
   "cell_type": "code",
   "execution_count": 6,
   "metadata": {},
   "outputs": [
    {
     "data": {
      "text/plain": [
       "(5, 28)"
      ]
     },
     "execution_count": 6,
     "metadata": {},
     "output_type": "execute_result"
    }
   ],
   "source": [
    "team_stats_df = load_team_stats()\n",
    "team_stats_df.head().shape"
   ]
  },
  {
   "cell_type": "markdown",
   "metadata": {},
   "source": [
    "### Optimal Dataframe Construction"
   ]
  },
  {
   "cell_type": "markdown",
   "metadata": {},
   "source": [
    "I now want to merge the dataframes that contain the team records and team stats (FG%, FGA, MIN) position. I will do this by merging by team and season."
   ]
  },
  {
   "cell_type": "code",
   "execution_count": 7,
   "metadata": {},
   "outputs": [
    {
     "name": "stdout",
     "output_type": "stream",
     "text": [
      "   Season           Team  GP   W   L   WIN%   Min    PTS   FGM   FGA  ...  \\\n",
      "0    2016  Atlanta Hawks  82  48  34  0.585  48.4  102.8  38.6  84.4  ...   \n",
      "1    2017  Atlanta Hawks  82  43  39  0.524  48.5  103.2  38.1  84.4  ...   \n",
      "2    2018  Atlanta Hawks  82  24  58  0.293  48.1  103.4  38.2  85.5  ...   \n",
      "3    2019  Atlanta Hawks  82  29  53  0.354  48.4  113.3  41.4  91.8  ...   \n",
      "4    2020  Atlanta Hawks  67  20  47  0.299  48.6  111.8  40.6  90.6  ...   \n",
      "\n",
      "   Road_W  Road_L  E_W  E_L  W_W  W_L  Pre-ASG_W  Pre-ASG_L  Post-ASG_W  \\\n",
      "0      21      20   29   23   19   11         31         24          17   \n",
      "1      20      21   30   22   13   17         32         24          15   \n",
      "2       8      33   12   40   18   12         18         41          17   \n",
      "3      29      12   16   36   13   17         19         39          14   \n",
      "4      27       6   11   32   15    9         15         41           6   \n",
      "\n",
      "   Post-ASG_L  \n",
      "0          10  \n",
      "1          11  \n",
      "2           6  \n",
      "3          10  \n",
      "4           5  \n",
      "\n",
      "[5 rows x 41 columns]\n",
      "-----\n",
      "The shape of the dataframe: (300, 41)\n"
     ]
    }
   ],
   "source": [
    "# Merge on Team and Season\n",
    "team_df = merge_team_data(team_stats_df, team_records_df)\n",
    "\n",
    "print(team_df.head())\n",
    "print(\"-----\")\n",
    "print(f\"The shape of the dataframe: {team_df.shape}\")"
   ]
  },
  {
   "cell_type": "code",
   "execution_count": 8,
   "metadata": {},
   "outputs": [
    {
     "data": {
      "text/html": [
       "<div>\n",
       "<style scoped>\n",
       "    .dataframe tbody tr th:only-of-type {\n",
       "        vertical-align: middle;\n",
       "    }\n",
       "\n",
       "    .dataframe tbody tr th {\n",
       "        vertical-align: top;\n",
       "    }\n",
       "\n",
       "    .dataframe thead th {\n",
       "        text-align: right;\n",
       "    }\n",
       "</style>\n",
       "<table border=\"1\" class=\"dataframe\">\n",
       "  <thead>\n",
       "    <tr style=\"text-align: right;\">\n",
       "      <th></th>\n",
       "      <th>Season</th>\n",
       "      <th>Team</th>\n",
       "      <th>FirstRoundPicks</th>\n",
       "      <th>SecondRoundPicks</th>\n",
       "    </tr>\n",
       "  </thead>\n",
       "  <tbody>\n",
       "    <tr>\n",
       "      <th>0</th>\n",
       "      <td>2015</td>\n",
       "      <td>Atlanta Hawks</td>\n",
       "      <td>1</td>\n",
       "      <td>2</td>\n",
       "    </tr>\n",
       "    <tr>\n",
       "      <th>1</th>\n",
       "      <td>2015</td>\n",
       "      <td>Boston Celtics</td>\n",
       "      <td>2</td>\n",
       "      <td>2</td>\n",
       "    </tr>\n",
       "    <tr>\n",
       "      <th>2</th>\n",
       "      <td>2015</td>\n",
       "      <td>Brooklyn Nets</td>\n",
       "      <td>1</td>\n",
       "      <td>1</td>\n",
       "    </tr>\n",
       "    <tr>\n",
       "      <th>3</th>\n",
       "      <td>2015</td>\n",
       "      <td>Charlotte Hornets</td>\n",
       "      <td>1</td>\n",
       "      <td>1</td>\n",
       "    </tr>\n",
       "    <tr>\n",
       "      <th>4</th>\n",
       "      <td>2015</td>\n",
       "      <td>Chicago Bulls</td>\n",
       "      <td>1</td>\n",
       "      <td>0</td>\n",
       "    </tr>\n",
       "  </tbody>\n",
       "</table>\n",
       "</div>"
      ],
      "text/plain": [
       "   Season               Team  FirstRoundPicks  SecondRoundPicks\n",
       "0    2015      Atlanta Hawks                1                 2\n",
       "1    2015     Boston Celtics                2                 2\n",
       "2    2015      Brooklyn Nets                1                 1\n",
       "3    2015  Charlotte Hornets                1                 1\n",
       "4    2015      Chicago Bulls                1                 0"
      ]
     },
     "execution_count": 8,
     "metadata": {},
     "output_type": "execute_result"
    }
   ],
   "source": [
    "draft_df = load_draft()\n",
    "draft_df.head()"
   ]
  },
  {
   "cell_type": "code",
   "execution_count": 9,
   "metadata": {},
   "outputs": [
    {
     "data": {
      "text/html": [
       "<div>\n",
       "<style scoped>\n",
       "    .dataframe tbody tr th:only-of-type {\n",
       "        vertical-align: middle;\n",
       "    }\n",
       "\n",
       "    .dataframe tbody tr th {\n",
       "        vertical-align: top;\n",
       "    }\n",
       "\n",
       "    .dataframe thead th {\n",
       "        text-align: right;\n",
       "    }\n",
       "</style>\n",
       "<table border=\"1\" class=\"dataframe\">\n",
       "  <thead>\n",
       "    <tr style=\"text-align: right;\">\n",
       "      <th></th>\n",
       "      <th>Coach</th>\n",
       "      <th>Yw/Franch</th>\n",
       "      <th>YOverall</th>\n",
       "      <th>CareerW</th>\n",
       "      <th>CareerL</th>\n",
       "      <th>CareerW%</th>\n",
       "      <th>Season</th>\n",
       "      <th>Team</th>\n",
       "    </tr>\n",
       "  </thead>\n",
       "  <tbody>\n",
       "    <tr>\n",
       "      <th>0</th>\n",
       "      <td>Quin Snyder</td>\n",
       "      <td>3</td>\n",
       "      <td>11</td>\n",
       "      <td>458</td>\n",
       "      <td>363</td>\n",
       "      <td>0.558</td>\n",
       "      <td>2025</td>\n",
       "      <td>Atlanta Hawks</td>\n",
       "    </tr>\n",
       "    <tr>\n",
       "      <th>1</th>\n",
       "      <td>Joe Mazzulla</td>\n",
       "      <td>3</td>\n",
       "      <td>3</td>\n",
       "      <td>182</td>\n",
       "      <td>64</td>\n",
       "      <td>0.740</td>\n",
       "      <td>2025</td>\n",
       "      <td>Boston Celtics</td>\n",
       "    </tr>\n",
       "    <tr>\n",
       "      <th>2</th>\n",
       "      <td>Jordi Fernandez</td>\n",
       "      <td>1</td>\n",
       "      <td>1</td>\n",
       "      <td>26</td>\n",
       "      <td>56</td>\n",
       "      <td>0.317</td>\n",
       "      <td>2025</td>\n",
       "      <td>Brooklyn Nets</td>\n",
       "    </tr>\n",
       "    <tr>\n",
       "      <th>3</th>\n",
       "      <td>Billy Donovan</td>\n",
       "      <td>5</td>\n",
       "      <td>10</td>\n",
       "      <td>438</td>\n",
       "      <td>362</td>\n",
       "      <td>0.548</td>\n",
       "      <td>2025</td>\n",
       "      <td>Chicago Bulls</td>\n",
       "    </tr>\n",
       "    <tr>\n",
       "      <th>4</th>\n",
       "      <td>Charles Lee</td>\n",
       "      <td>1</td>\n",
       "      <td>1</td>\n",
       "      <td>19</td>\n",
       "      <td>63</td>\n",
       "      <td>0.232</td>\n",
       "      <td>2025</td>\n",
       "      <td>Charlotte Hornets</td>\n",
       "    </tr>\n",
       "  </tbody>\n",
       "</table>\n",
       "</div>"
      ],
      "text/plain": [
       "             Coach  Yw/Franch  YOverall  CareerW  CareerL  CareerW%  Season  \\\n",
       "0      Quin Snyder          3        11      458      363     0.558    2025   \n",
       "1     Joe Mazzulla          3         3      182       64     0.740    2025   \n",
       "2  Jordi Fernandez          1         1       26       56     0.317    2025   \n",
       "3    Billy Donovan          5        10      438      362     0.548    2025   \n",
       "4      Charles Lee          1         1       19       63     0.232    2025   \n",
       "\n",
       "                Team  \n",
       "0      Atlanta Hawks  \n",
       "1     Boston Celtics  \n",
       "2      Brooklyn Nets  \n",
       "3      Chicago Bulls  \n",
       "4  Charlotte Hornets  "
      ]
     },
     "execution_count": 9,
     "metadata": {},
     "output_type": "execute_result"
    }
   ],
   "source": [
    "coach_df = load_coaches()\n",
    "coach_df.head(5)"
   ]
  },
  {
   "cell_type": "markdown",
   "metadata": {},
   "source": [
    "In order to alleviate duplicate rows, I will turn the draft pick column into two columns, those being the sum of First Round (Picks 1-30) and Second Round (Picks 31-60). This process has been moved from the noteboook and integrated within the \"load_coaches\" function in data_loader.py."
   ]
  },
  {
   "cell_type": "code",
   "execution_count": 10,
   "metadata": {},
   "outputs": [
    {
     "name": "stdout",
     "output_type": "stream",
     "text": [
      "draft_df → Missing in 2024: set()\n",
      "draft_df → Missing in 2025: set()\n",
      "coach_df → Missing in 2024: set()\n",
      "coach_df → Missing in 2025: set()\n"
     ]
    }
   ],
   "source": [
    "# For draft_df leaks\n",
    "draft_2024 = draft_df[draft_df[\"Season\"] == 2024][\"Team\"].unique()\n",
    "draft_2025 = draft_df[draft_df[\"Season\"] == 2025][\"Team\"].unique()\n",
    "\n",
    "print(\"draft_df → Missing in 2024:\", set(nba_teams) - set(draft_2024))\n",
    "print(\"draft_df → Missing in 2025:\", set(nba_teams) - set(draft_2025))\n",
    "\n",
    "\n",
    "# For coach_df leaks\n",
    "coach_2024 = coach_df[coach_df[\"Season\"] == 2024][\"Team\"].unique()\n",
    "coach_2025 = coach_df[coach_df[\"Season\"] == 2025][\"Team\"].unique()\n",
    "\n",
    "print(\"coach_df → Missing in 2024:\", set(nba_teams) - set(coach_2024))\n",
    "print(\"coach_df → Missing in 2025:\", set(nba_teams) - set(coach_2025))"
   ]
  },
  {
   "cell_type": "markdown",
   "metadata": {},
   "source": [
    "I now want to merge the dataframes that contain the length of the current coach and their draft position. I will do this by merging by team and season."
   ]
  },
  {
   "cell_type": "code",
   "execution_count": 11,
   "metadata": {},
   "outputs": [
    {
     "name": "stdout",
     "output_type": "stream",
     "text": [
      "             Coach  Yw/Franch  YOverall  CareerW  CareerL  CareerW%  Season  \\\n",
      "0      Quin Snyder          3        11      458      363     0.558    2025   \n",
      "1     Joe Mazzulla          3         3      182       64     0.740    2025   \n",
      "2  Jordi Fernandez          1         1       26       56     0.317    2025   \n",
      "3    Billy Donovan          5        10      438      362     0.548    2025   \n",
      "4      Charles Lee          1         1       19       63     0.232    2025   \n",
      "\n",
      "                Team  FirstRoundPicks  SecondRoundPicks  Coach_Count  \n",
      "0      Atlanta Hawks                2                 0            1  \n",
      "1     Boston Celtics                1                 1            1  \n",
      "2      Brooklyn Nets                4                 1            1  \n",
      "3      Chicago Bulls                1                 1            1  \n",
      "4  Charlotte Hornets                1                 2            1  \n",
      "-----\n",
      "The shape of the dataframe: (328, 11)\n"
     ]
    }
   ],
   "source": [
    "# Merge on Team and Season\n",
    "front_office_df = merge_front_office(coach_df, draft_df)\n",
    "\n",
    "print(front_office_df.head())\n",
    "print(\"-----\")\n",
    "print(f\"The shape of the dataframe: {front_office_df.shape}\")"
   ]
  },
  {
   "cell_type": "markdown",
   "metadata": {},
   "source": [
    "I now need to add a column to this front offfice dataframe that counts the amount of coaches each team has in each season. This process has been moved from the noteboook and integrated within the \"merge_front_office\" function in data_loader.py."
   ]
  },
  {
   "cell_type": "code",
   "execution_count": 12,
   "metadata": {},
   "outputs": [
    {
     "name": "stdout",
     "output_type": "stream",
     "text": [
      "Missing in 2024: set()\n",
      "Missing in 2025: set()\n"
     ]
    }
   ],
   "source": [
    "# For front office data leaks\n",
    "fo_2024 = front_office_df[front_office_df[\"Season\"] == 2024][\"Team\"].unique()\n",
    "fo_2025 = front_office_df[front_office_df[\"Season\"] == 2025][\"Team\"].unique()\n",
    "\n",
    "print(\"Missing in 2024:\", set(nba_teams) - set(fo_2024))\n",
    "print(\"Missing in 2025:\", set(nba_teams) - set(fo_2025))"
   ]
  },
  {
   "cell_type": "markdown",
   "metadata": {},
   "source": [
    "I will now add the teams payroll data into the front office dataframe. This will just give my front office dataset that last bit of kick to make accurate predictions on the future of NBA Teams!"
   ]
  },
  {
   "cell_type": "code",
   "execution_count": 13,
   "metadata": {},
   "outputs": [
    {
     "name": "stdout",
     "output_type": "stream",
     "text": [
      "                Team  Season     Payroll\n",
      "0      Atlanta Hawks    2016  71661760.0\n",
      "1     Boston Celtics    2016  77141919.0\n",
      "2      Brooklyn Nets    2016  80258302.0\n",
      "3  Charlotte Hornets    2016  76860006.0\n",
      "4      Chicago Bulls    2016  87073838.0\n"
     ]
    }
   ],
   "source": [
    "team_payroll_df = load_payroll()\n",
    "print(team_payroll_df.head())"
   ]
  },
  {
   "cell_type": "markdown",
   "metadata": {},
   "source": [
    "It seems I have mispelled some of the teams names and need to find out which ones. This is one of the errors expected from manual insertion of data."
   ]
  },
  {
   "cell_type": "code",
   "execution_count": 14,
   "metadata": {},
   "outputs": [
    {
     "data": {
      "text/plain": [
       "<bound method DataFrame.info of                    Team  Season      Payroll\n",
       "0         Atlanta Hawks    2016   71661760.0\n",
       "1        Boston Celtics    2016   77141919.0\n",
       "2         Brooklyn Nets    2016   80258302.0\n",
       "3     Charlotte Hornets    2016   76860006.0\n",
       "4         Chicago Bulls    2016   87073838.0\n",
       "..                  ...     ...          ...\n",
       "415    Sacramento Kings    2029          NaN\n",
       "416   San Antonio Spurs    2029   86198976.0\n",
       "417     Toronto Raptors    2029  109924508.0\n",
       "418           Utah Jazz    2029   53536209.0\n",
       "419  Washington Wizards    2029          NaN\n",
       "\n",
       "[420 rows x 3 columns]>"
      ]
     },
     "execution_count": 14,
     "metadata": {},
     "output_type": "execute_result"
    }
   ],
   "source": [
    "team_payroll_df.info"
   ]
  },
  {
   "cell_type": "code",
   "execution_count": 15,
   "metadata": {},
   "outputs": [
    {
     "name": "stdout",
     "output_type": "stream",
     "text": [
      "             Coach  Yw/Franch  YOverall  CareerW  CareerL  CareerW%  Season  \\\n",
      "0      Quin Snyder          3        11      458      363     0.558    2025   \n",
      "1     Joe Mazzulla          3         3      182       64     0.740    2025   \n",
      "2  Jordi Fernandez          1         1       26       56     0.317    2025   \n",
      "3    Billy Donovan          5        10      438      362     0.548    2025   \n",
      "4      Charles Lee          1         1       19       63     0.232    2025   \n",
      "\n",
      "                Team  FirstRoundPicks  SecondRoundPicks  Coach_Count  \\\n",
      "0      Atlanta Hawks                2                 0            1   \n",
      "1     Boston Celtics                1                 1            1   \n",
      "2      Brooklyn Nets                4                 1            1   \n",
      "3      Chicago Bulls                1                 1            1   \n",
      "4  Charlotte Hornets                1                 2            1   \n",
      "\n",
      "       Payroll  \n",
      "0  170057021.0  \n",
      "1  195348491.0  \n",
      "2  168312896.0  \n",
      "3  165722496.0  \n",
      "4  168575524.0  \n",
      "Shape: (328, 12)\n"
     ]
    }
   ],
   "source": [
    "front_office_df = merge_front_office(coach_df, draft_df, team_payroll_df)\n",
    "\n",
    "print(front_office_df.head())\n",
    "print(\"Shape:\", front_office_df.shape)"
   ]
  },
  {
   "cell_type": "code",
   "execution_count": 16,
   "metadata": {},
   "outputs": [
    {
     "data": {
      "text/html": [
       "<div>\n",
       "<style scoped>\n",
       "    .dataframe tbody tr th:only-of-type {\n",
       "        vertical-align: middle;\n",
       "    }\n",
       "\n",
       "    .dataframe tbody tr th {\n",
       "        vertical-align: top;\n",
       "    }\n",
       "\n",
       "    .dataframe thead th {\n",
       "        text-align: right;\n",
       "    }\n",
       "</style>\n",
       "<table border=\"1\" class=\"dataframe\">\n",
       "  <thead>\n",
       "    <tr style=\"text-align: right;\">\n",
       "      <th></th>\n",
       "      <th>Coach</th>\n",
       "      <th>Yw/Franch</th>\n",
       "      <th>YOverall</th>\n",
       "      <th>CareerW</th>\n",
       "      <th>CareerL</th>\n",
       "      <th>CareerW%</th>\n",
       "      <th>Season</th>\n",
       "      <th>Team</th>\n",
       "      <th>FirstRoundPicks</th>\n",
       "      <th>SecondRoundPicks</th>\n",
       "      <th>Coach_Count</th>\n",
       "      <th>Payroll</th>\n",
       "    </tr>\n",
       "  </thead>\n",
       "  <tbody>\n",
       "  </tbody>\n",
       "</table>\n",
       "</div>"
      ],
      "text/plain": [
       "Empty DataFrame\n",
       "Columns: [Coach, Yw/Franch, YOverall, CareerW, CareerL, CareerW%, Season, Team, FirstRoundPicks, SecondRoundPicks, Coach_Count, Payroll]\n",
       "Index: []"
      ]
     },
     "execution_count": 16,
     "metadata": {},
     "output_type": "execute_result"
    }
   ],
   "source": [
    "front_office_df[front_office_df[\"Payroll\"].isna()]"
   ]
  },
  {
   "cell_type": "markdown",
   "metadata": {},
   "source": [
    "### Strength of Schedule Calculation\n",
    "\n",
    "Next, I need to use the dataframe containing the teams records against themselves to calculate each teams strength of schedule, giving me an even more accurate prediction of the amount of wins they will have in the 2025-26 season.\n",
    "\n",
    "The formula I will use for the calculation is:\n",
    "∑(Opposing Team Win Pct * Games vs the Opponent) / Total Games\n",
    "\n",
    "I have added this logic for this formula inside of the data_loader calculate_sos function.\n"
   ]
  },
  {
   "cell_type": "code",
   "execution_count": 17,
   "metadata": {},
   "outputs": [
    {
     "name": "stdout",
     "output_type": "stream",
     "text": [
      "   Rk               Team Atlanta Hawks Boston Celtics Brooklyn Nets  \\\n",
      "0   1      Atlanta Hawks           NaN            2-1           2-1   \n",
      "1   2     Boston Celtics           1-2            NaN           4-0   \n",
      "2   3      Brooklyn Nets           1-2            0-4           NaN   \n",
      "3   4      Chicago Bulls           2-2            1-3           2-1   \n",
      "4   5  Charlotte Hornets           0-4            0-4           1-3   \n",
      "\n",
      "  Chicago Bulls Charlotte Hornets Cleveland Cavaliers Dallas Mavericks  \\\n",
      "0           2-2               4-0                 2-1              0-2   \n",
      "1           3-1               4-0                 2-2              1-1   \n",
      "2           1-2               3-1                 0-4              1-1   \n",
      "3           NaN               3-1                 0-4              0-2   \n",
      "4           1-3               NaN                 0-4              1-1   \n",
      "\n",
      "  Denver Nuggets  ... Orlando Magic Philadelphia 76ers Phoenix Suns  \\\n",
      "0            0-2  ...           2-2                3-0          1-1   \n",
      "1            2-0  ...           1-2                3-1          2-0   \n",
      "2            0-2  ...           0-4                2-2          1-1   \n",
      "3            2-0  ...           2-1                2-2          0-2   \n",
      "4            0-2  ...           0-4                0-4          1-1   \n",
      "\n",
      "  Portland Trail Blazers Sacramento Kings San Antonio Spurs Toronto Raptors  \\\n",
      "0                    0-2              1-1               0-2             1-2   \n",
      "1                    2-0              1-1               2-0             3-1   \n",
      "2                    1-1              1-1               0-2             1-3   \n",
      "3                    1-1              1-1               2-0             4-0   \n",
      "4                    0-2              0-2               2-0             1-2   \n",
      "\n",
      "  Utah Jazz Washington Wizards Season  \n",
      "0       2-0                2-2   2025  \n",
      "1       2-0                4-0   2025  \n",
      "2       0-2                1-2   2025  \n",
      "3       1-1                3-1   2025  \n",
      "4       2-0                0-4   2025  \n",
      "\n",
      "[5 rows x 33 columns]\n"
     ]
    }
   ],
   "source": [
    "team_sos_df = load_sos()\n",
    "print(team_sos_df.head())"
   ]
  },
  {
   "cell_type": "code",
   "execution_count": 18,
   "metadata": {},
   "outputs": [
    {
     "name": "stdout",
     "output_type": "stream",
     "text": [
      "                Team  Season       SOS\n",
      "0      Atlanta Hawks    2025  0.495012\n",
      "1     Boston Celtics    2025  0.479110\n",
      "2      Brooklyn Nets    2025  0.507207\n",
      "3      Chicago Bulls    2025  0.495756\n",
      "4  Charlotte Hornets    2025  0.504085\n",
      "Shape: (300, 3)\n"
     ]
    }
   ],
   "source": [
    "sos_df = calculate_sos(team_df, team_sos_df)\n",
    "\n",
    "print(sos_df.head())\n",
    "print(f\"Shape: {sos_df.shape}\")"
   ]
  },
  {
   "cell_type": "markdown",
   "metadata": {},
   "source": [
    "### Player Stats Calculations\n",
    "\n",
    "Now that I have calculated the strength of schedule, I need to calculate a few more player stats that I can add to my final dataframe. The stats I will be using from these player stats are:\n",
    "- average age\n",
    "- average points of top 10 players\n",
    "- production score: (Points + PlUS/MINUS) / Minutes Played\n",
    "- injury rate: (82 × Roster Size) − Total Games Played\n",
    "\n",
    "First, I need to parse through my player-stats folder and gather all of the player statistics I scraped from Basketball Reference."
   ]
  },
  {
   "cell_type": "code",
   "execution_count": 19,
   "metadata": {},
   "outputs": [
    {
     "name": "stdout",
     "output_type": "stream",
     "text": [
      "Missing in 2024: set()\n",
      "Missing in 2025: set()\n"
     ]
    }
   ],
   "source": [
    "teams_2024 = front_office_df[front_office_df[\"Season\"] == 2024][\"Team\"].unique()\n",
    "teams_2025 = front_office_df[front_office_df[\"Season\"] == 2025][\"Team\"].unique()\n",
    "\n",
    "print(\"Missing in 2024:\", set(nba_teams) - set(teams_2024))\n",
    "print(\"Missing in 2025:\", set(nba_teams) - set(teams_2025))"
   ]
  },
  {
   "cell_type": "code",
   "execution_count": 20,
   "metadata": {},
   "outputs": [],
   "source": [
    "players_df = load_players()"
   ]
  },
  {
   "cell_type": "markdown",
   "metadata": {},
   "source": [
    "Next, I need to make a new dataframe with the calculations I had explained earlier. Then I will take these calculations and add them to the team dataframe. I have implemented this formula logic inside of the data_loader calculate_player_features function."
   ]
  },
  {
   "cell_type": "code",
   "execution_count": 21,
   "metadata": {},
   "outputs": [
    {
     "name": "stdout",
     "output_type": "stream",
     "text": [
      "   Season               Team    avg_age  avg_pts_top10  avg_production_score  \\\n",
      "0    2016      Atlanta Hawks  27.470588          10.52              0.377504   \n",
      "1    2016     Boston Celtics  24.500000          11.20              0.428270   \n",
      "2    2016      Brooklyn Nets  26.000000          11.39              0.389805   \n",
      "3    2016  Charlotte Hornets  25.941176          11.78              0.395202   \n",
      "4    2016      Chicago Bulls  27.562500          11.24              0.375663   \n",
      "\n",
      "   injury_rate  \n",
      "0     0.352941  \n",
      "1     0.319360  \n",
      "2     0.370875  \n",
      "3     0.378049  \n",
      "4     0.352134  \n",
      "Shape: (300, 6)\n"
     ]
    }
   ],
   "source": [
    "# Step 2: Aggregate into team-season features\n",
    "player_stats_df = calculate_player_features(players_df)\n",
    "\n",
    "print(player_stats_df.head())\n",
    "print(\"Shape:\", player_stats_df.shape)"
   ]
  },
  {
   "cell_type": "markdown",
   "metadata": {},
   "source": [
    "Now that I have calculated the strength of schedule for each team in each season and the player stats needed, I will merge the strength of schedule dataframe to the current team_df. This will make it so that I have a front_office_df that includes payroll, draft order, and coaches along with a team_df that will contain team records, strength of schedule, and average stats."
   ]
  },
  {
   "cell_type": "code",
   "execution_count": 22,
   "metadata": {},
   "outputs": [
    {
     "name": "stdout",
     "output_type": "stream",
     "text": [
      "   Season           Team  GP   W   L   WIN%   Min    PTS   FGM   FGA  ...  \\\n",
      "0    2016  Atlanta Hawks  82  48  34  0.585  48.4  102.8  38.6  84.4  ...   \n",
      "1    2017  Atlanta Hawks  82  43  39  0.524  48.5  103.2  38.1  84.4  ...   \n",
      "2    2018  Atlanta Hawks  82  24  58  0.293  48.1  103.4  38.2  85.5  ...   \n",
      "3    2019  Atlanta Hawks  82  29  53  0.354  48.4  113.3  41.4  91.8  ...   \n",
      "4    2020  Atlanta Hawks  67  20  47  0.299  48.6  111.8  40.6  90.6  ...   \n",
      "\n",
      "   W_L  Pre-ASG_W  Pre-ASG_L  Post-ASG_W  Post-ASG_L       SOS    avg_age  \\\n",
      "0   11         31         24          17          10  0.500061  27.470588   \n",
      "1   17         32         24          15          11  0.489720  28.200000   \n",
      "2   12         18         41          17           6  0.508341  25.500000   \n",
      "3   17         19         39          14          10  0.499671  25.136364   \n",
      "4    9         15         41           6           5  0.509597  25.761905   \n",
      "\n",
      "   avg_pts_top10  avg_production_score  injury_rate  \n",
      "0          10.52              0.377504     0.352941  \n",
      "1          11.40              0.360804     0.464024  \n",
      "2          11.47              0.367238     0.502217  \n",
      "3          12.18              0.414214     0.487251  \n",
      "4          13.18              0.381393     0.574332  \n",
      "\n",
      "[5 rows x 46 columns]\n",
      "-----\n",
      "The shape of the dataframe: (300, 46)\n"
     ]
    }
   ],
   "source": [
    "# Merge on SOS and current team_df\n",
    "team_df = merge_team_data(team_df, sos_df)\n",
    "\n",
    "# Merge Player Stats and current team_df\n",
    "team_df = merge_team_data(team_df, player_stats_df)\n",
    "\n",
    "# Check result\n",
    "print(team_df.head())\n",
    "print(f\"-----\")\n",
    "print(f\"The shape of the dataframe:\", team_df.shape)"
   ]
  },
  {
   "cell_type": "markdown",
   "metadata": {},
   "source": [
    "The code below is ran to make sure that there are no data leaks within the team dataframe."
   ]
  },
  {
   "cell_type": "code",
   "execution_count": 23,
   "metadata": {},
   "outputs": [
    {
     "name": "stdout",
     "output_type": "stream",
     "text": [
      "Missing in 2024: set()\n",
      "Missing in 2025: set()\n"
     ]
    }
   ],
   "source": [
    "teams_2024 = team_df[team_df[\"Season\"] == 2024][\"Team\"].unique()\n",
    "teams_2025 = team_df[team_df[\"Season\"] == 2025][\"Team\"].unique()\n",
    "\n",
    "print(\"Missing in 2024:\", set(nba_teams) - set(teams_2024))\n",
    "print(\"Missing in 2025:\", set(nba_teams) - set(teams_2025))"
   ]
  },
  {
   "cell_type": "markdown",
   "metadata": {},
   "source": [
    "In order to get a clean target and feature variables, I am forced to merge the two master datasets I have into one master dataset."
   ]
  },
  {
   "cell_type": "code",
   "execution_count": 24,
   "metadata": {},
   "outputs": [
    {
     "name": "stdout",
     "output_type": "stream",
     "text": [
      "(328, 56)\n",
      "   Season           Team  GP   W   L   WIN%   Min    PTS   FGM   FGA  ...  \\\n",
      "0    2016  Atlanta Hawks  82  48  34  0.585  48.4  102.8  38.6  84.4  ...   \n",
      "1    2017  Atlanta Hawks  82  43  39  0.524  48.5  103.2  38.1  84.4  ...   \n",
      "2    2018  Atlanta Hawks  82  24  58  0.293  48.1  103.4  38.2  85.5  ...   \n",
      "3    2019  Atlanta Hawks  82  29  53  0.354  48.4  113.3  41.4  91.8  ...   \n",
      "4    2020  Atlanta Hawks  67  20  47  0.299  48.6  111.8  40.6  90.6  ...   \n",
      "\n",
      "              Coach  Yw/Franch  YOverall  CareerW  CareerL  CareerW%  \\\n",
      "0  Mike Budenholzer          3         3      146      100     0.593   \n",
      "1  Mike Budenholzer          4         4      189      139     0.576   \n",
      "2  Mike Budenholzer          5         5      213      197     0.520   \n",
      "3      Lloyd Pierce          1         1       29       53     0.354   \n",
      "4      Lloyd Pierce          2         2       49      100     0.329   \n",
      "\n",
      "   FirstRoundPicks  SecondRoundPicks  Coach_Count      Payroll  \n",
      "0                1                 2            1   71661760.0  \n",
      "1                1                 2            1   96315163.0  \n",
      "2                3                 1            1   99992696.0  \n",
      "3                2                 1            1   79180081.0  \n",
      "4                1                 1            1  110702618.0  \n",
      "\n",
      "[5 rows x 56 columns]\n",
      "<class 'pandas.core.frame.DataFrame'>\n",
      "RangeIndex: 328 entries, 0 to 327\n",
      "Data columns (total 56 columns):\n",
      " #   Column                Non-Null Count  Dtype  \n",
      "---  ------                --------------  -----  \n",
      " 0   Season                328 non-null    int64  \n",
      " 1   Team                  328 non-null    object \n",
      " 2   GP                    328 non-null    int64  \n",
      " 3   W                     328 non-null    int64  \n",
      " 4   L                     328 non-null    int64  \n",
      " 5   WIN%                  328 non-null    float64\n",
      " 6   Min                   328 non-null    float64\n",
      " 7   PTS                   328 non-null    float64\n",
      " 8   FGM                   328 non-null    float64\n",
      " 9   FGA                   328 non-null    float64\n",
      " 10  FG%                   328 non-null    float64\n",
      " 11  3PM                   328 non-null    float64\n",
      " 12  3PA                   328 non-null    float64\n",
      " 13  3P%                   328 non-null    float64\n",
      " 14  FTM                   328 non-null    float64\n",
      " 15  FTA                   328 non-null    float64\n",
      " 16  FT%                   328 non-null    float64\n",
      " 17  OREB                  328 non-null    float64\n",
      " 18  DREB                  328 non-null    float64\n",
      " 19  REB                   328 non-null    float64\n",
      " 20  AST                   328 non-null    float64\n",
      " 21  TOV                   328 non-null    float64\n",
      " 22  STL                   328 non-null    float64\n",
      " 23  BLK                   328 non-null    float64\n",
      " 24  BLKA                  328 non-null    float64\n",
      " 25  PF                    328 non-null    float64\n",
      " 26  PFD                   328 non-null    float64\n",
      " 27  PLUS_MINUS            328 non-null    float64\n",
      " 28  Rk                    328 non-null    int64  \n",
      " 29  Home_W                328 non-null    int64  \n",
      " 30  Home_L                328 non-null    int64  \n",
      " 31  Road_W                328 non-null    int64  \n",
      " 32  Road_L                328 non-null    int64  \n",
      " 33  E_W                   328 non-null    int64  \n",
      " 34  E_L                   328 non-null    int64  \n",
      " 35  W_W                   328 non-null    int64  \n",
      " 36  W_L                   328 non-null    int64  \n",
      " 37  Pre-ASG_W             328 non-null    int64  \n",
      " 38  Pre-ASG_L             328 non-null    int64  \n",
      " 39  Post-ASG_W            328 non-null    int64  \n",
      " 40  Post-ASG_L            328 non-null    int64  \n",
      " 41  SOS                   328 non-null    float64\n",
      " 42  avg_age               328 non-null    float64\n",
      " 43  avg_pts_top10         328 non-null    float64\n",
      " 44  avg_production_score  328 non-null    float64\n",
      " 45  injury_rate           328 non-null    float64\n",
      " 46  Coach                 328 non-null    object \n",
      " 47  Yw/Franch             328 non-null    int64  \n",
      " 48  YOverall              328 non-null    int64  \n",
      " 49  CareerW               328 non-null    int64  \n",
      " 50  CareerL               328 non-null    int64  \n",
      " 51  CareerW%              328 non-null    float64\n",
      " 52  FirstRoundPicks       328 non-null    int64  \n",
      " 53  SecondRoundPicks      328 non-null    int64  \n",
      " 54  Coach_Count           328 non-null    int64  \n",
      " 55  Payroll               328 non-null    float64\n",
      "dtypes: float64(30), int64(24), object(2)\n",
      "memory usage: 143.6+ KB\n",
      "None\n"
     ]
    }
   ],
   "source": [
    "# Merge team_df and front_office_df\n",
    "master_df_unscaled = pd.merge(\n",
    "    team_df,\n",
    "    front_office_df,\n",
    "    on=[\"Team\", \"Season\"],\n",
    "    how=\"inner\"\n",
    ")\n",
    "\n",
    "print(master_df_unscaled.shape)\n",
    "print(master_df_unscaled.head())\n",
    "print(master_df_unscaled.info())"
   ]
  },
  {
   "cell_type": "markdown",
   "metadata": {},
   "source": [
    "Now that I have all of my dataframes merged into one master, I need to do some preprocessing of the data; more specifically, I need to scale the 2020 and 2021 shortened covid seasons to have 82 games played for only the totals,"
   ]
  },
  {
   "cell_type": "code",
   "execution_count": 25,
   "metadata": {},
   "outputs": [
    {
     "name": "stdout",
     "output_type": "stream",
     "text": [
      "    Season            Team  GP          W          L         PTS  \\\n",
      "4     2020   Atlanta Hawks  67  24.477612  57.522388  136.829851   \n",
      "5     2021   Atlanta Hawks  72  46.694444  35.305556  129.491667   \n",
      "6     2021   Atlanta Hawks  72  46.694444  35.305556  129.491667   \n",
      "17    2020  Boston Celtics  72  54.666667  27.333333  129.491667   \n",
      "18    2021  Boston Celtics  72  41.000000  41.000000  128.238889   \n",
      "\n",
      "    avg_production_score  \n",
      "4               0.466780  \n",
      "5               0.471217  \n",
      "6               0.471217  \n",
      "17              0.481876  \n",
      "18              0.451757  \n"
     ]
    }
   ],
   "source": [
    "# --- Step 1: Identify columns ---\n",
    "id_cols = [\"Season\", \"Team\", \"Coach\", \"Rk\", \"Pk\", \"Coach_Count\", \"GP\"]\n",
    "rate_cols = [\"WIN%\", \"FG%\", \"3P%\", \"FT%\", \"SOS\", \"CareerW%\", \"injury_rate\", \"Payroll\"]\n",
    "career_cols = [\"Yw/Franch\", \"YOverall\", \"CareerW\", \"CareerL\"]  # career aggregates\n",
    "\n",
    "# Columns eligible for scaling\n",
    "counting_cols = [\n",
    "    col for col in master_df_unscaled.columns\n",
    "    if col not in id_cols + rate_cols + career_cols\n",
    "]\n",
    "\n",
    "# --- Step 2: Apply scaling ---\n",
    "def scale_row(row):\n",
    "    season_games = row[\"GP\"]\n",
    "    if season_games < 82:  # only scale shortened seasons\n",
    "        scale_factor = 82 / season_games\n",
    "        row[counting_cols] = row[counting_cols] * scale_factor\n",
    "    return row\n",
    "\n",
    "master_df = master_df_unscaled.apply(scale_row, axis=1)\n",
    "\n",
    "# --- Step 3: Sanity check ---\n",
    "print(master_df.loc[master_df[\"Season\"].isin([2020, 2021]),\n",
    "                          [\"Season\", \"Team\", \"GP\", \"W\", \"L\", \"PTS\", \"avg_production_score\"]].head())"
   ]
  },
  {
   "cell_type": "code",
   "execution_count": 26,
   "metadata": {},
   "outputs": [
    {
     "name": "stdout",
     "output_type": "stream",
     "text": [
      "     Season                Team          W      NWins          Coach  \\\n",
      "308    2017           Utah Jazz  51.000000  48.000000    Quin Snyder   \n",
      "309    2018           Utah Jazz  48.000000  50.000000    Quin Snyder   \n",
      "310    2019           Utah Jazz  50.000000  50.111111    Quin Snyder   \n",
      "311    2020           Utah Jazz  50.111111  59.222222    Quin Snyder   \n",
      "312    2021           Utah Jazz  59.222222  49.000000    Quin Snyder   \n",
      "313    2022           Utah Jazz  49.000000  37.000000    Quin Snyder   \n",
      "314    2023           Utah Jazz  37.000000  31.000000     Will Hardy   \n",
      "315    2024           Utah Jazz  31.000000  17.000000     Will Hardy   \n",
      "316    2025           Utah Jazz  17.000000        NaN     Will Hardy   \n",
      "317    2016  Washington Wizards  41.000000  49.000000  Randy Wittman   \n",
      "318    2017  Washington Wizards  49.000000  43.000000   Scott Brooks   \n",
      "319    2018  Washington Wizards  43.000000  32.000000   Scott Brooks   \n",
      "320    2019  Washington Wizards  32.000000  28.472222   Scott Brooks   \n",
      "321    2020  Washington Wizards  28.472222  38.722222   Scott Brooks   \n",
      "322    2021  Washington Wizards  38.722222  35.000000   Scott Brooks   \n",
      "323    2022  Washington Wizards  35.000000  35.000000     Wes Unseld   \n",
      "324    2023  Washington Wizards  35.000000  15.000000     Wes Unseld   \n",
      "325    2024  Washington Wizards  15.000000  15.000000     Wes Unseld   \n",
      "326    2024  Washington Wizards  15.000000  18.000000    Brian Keefe   \n",
      "327    2025  Washington Wizards  18.000000        NaN    Brian Keefe   \n",
      "\n",
      "     FirstRoundPicks  SecondRoundPicks  \n",
      "308         2.000000          2.000000  \n",
      "309         1.000000          1.000000  \n",
      "310         1.000000          1.000000  \n",
      "311         1.138889          1.138889  \n",
      "312         1.138889          0.000000  \n",
      "313         0.000000          0.000000  \n",
      "314         3.000000          0.000000  \n",
      "315         2.000000          1.000000  \n",
      "316         2.000000          2.000000  \n",
      "317         0.000000          0.000000  \n",
      "318         0.000000          0.000000  \n",
      "319         1.000000          1.000000  \n",
      "320         1.000000          0.000000  \n",
      "321         1.138889          1.138889  \n",
      "322         1.138889          0.000000  \n",
      "323         1.000000          1.000000  \n",
      "324         1.000000          2.000000  \n",
      "325         2.000000          0.000000  \n",
      "326         2.000000          0.000000  \n",
      "327         2.000000          1.000000  \n"
     ]
    }
   ],
   "source": [
    "# --- Create NWins column (next season's wins) ---\n",
    "master_df = master_df.sort_values(by=[\"Team\", \"Season\"]).reset_index(drop=True)\n",
    "\n",
    "# Shift W column back one season within each team group\n",
    "master_df[\"NWins\"] = master_df.groupby(\"Team\")[\"W\"].shift(-1)\n",
    "\n",
    "# For the latest season (e.g., 2025), NWins will naturally be NaN\n",
    "print(master_df[[\"Season\", \"Team\", \"W\", \"NWins\", \"Coach\", \"FirstRoundPicks\",\"SecondRoundPicks\"]].tail(20))\n"
   ]
  },
  {
   "cell_type": "markdown",
   "metadata": {},
   "source": [
    "The last step I have before I can start my final cleaning checklist is to make the master dataframes into csv files."
   ]
  },
  {
   "cell_type": "code",
   "execution_count": 27,
   "metadata": {},
   "outputs": [],
   "source": [
    "# # THE CODE TO CREATE RAW MASTER DATA CSV FILES\n",
    "# # Define output folder\n",
    "# output_dir = \"/Users/trustanprice/Desktop/Personal/Basketball-Predictions/data/raw/master-stats\"\n",
    "# os.makedirs(output_dir, exist_ok=True)\n",
    "\n",
    "# # Save team_df\n",
    "# team_path = os.path.join(output_dir, \"team_df.csv\")\n",
    "# team_df.to_csv(team_path, index=False)\n",
    "# print(f\"team_df saved to {team_path}\")\n",
    "\n",
    "# # Save front_office_df\n",
    "# front_office_path = os.path.join(output_dir, \"front_office_df.csv\")\n",
    "# front_office_df.to_csv(front_office_path, index=False)\n",
    "# print(f\"front_office_df saved to {front_office_path}\")\n",
    "\n",
    "# # Save master_df\n",
    "# master_path = os.path.join(output_dir, \"master_df.csv\")\n",
    "# master_df.to_csv(master_path, index=False)\n",
    "# print(f\"master_df saved to {master_path}\")"
   ]
  },
  {
   "cell_type": "code",
   "execution_count": 28,
   "metadata": {},
   "outputs": [],
   "source": [
    "# # THE CODE TO CREATE PROCESSED MASTER DATA GZIP FILES\n",
    "# # gzip file creation block\n",
    "# root_dir = \"/Users/trustanprice/Desktop/Personal/Basketball-Predictions/data/raw/master-stats\"\n",
    "\n",
    "# for subdir, _, files in os.walk(root_dir):\n",
    "#     for file in files:\n",
    "#         if file.endswith(\".csv\"):\n",
    "#             file_path = os.path.join(subdir, file)\n",
    "#             gz_path = file_path + \".gz\"\n",
    "\n",
    "#             try:\n",
    "#                 df = pd.read_csv(file_path)\n",
    "\n",
    "#                 if df.empty:\n",
    "#                     print(f\"Skipping empty file: {file_path}\")\n",
    "#                     continue\n",
    "\n",
    "#                 print(f\"Compressing {file_path} -> {gz_path}\")\n",
    "#                 df.to_csv(gz_path, index=False, compression=\"gzip\")\n",
    "\n",
    "#             except pd.errors.EmptyDataError:\n",
    "#                 print(f\"Skipping empty file (no data): {file_path}\")\n"
   ]
  },
  {
   "cell_type": "markdown",
   "metadata": {},
   "source": [
    "## Final Data Cleaning\n",
    "\n",
    "Now that I have my main dataframes completed, I now need to go through the basic data cleaning checklist:\n",
    "- checking for NaN values\n",
    "- checking for duplicate values\n",
    "- verify manually entered data (Season columns and Team names)"
   ]
  },
  {
   "cell_type": "code",
   "execution_count": 29,
   "metadata": {},
   "outputs": [],
   "source": [
    "def cleaning_report(df, df_name=\"DataFrame\"):\n",
    "    print(f\"--- Cleaning Report for {df_name} ---\")\n",
    "    \n",
    "    # 1. Check for NaN values\n",
    "    nan_summary = df.isna().sum()\n",
    "    nan_summary = nan_summary[nan_summary > 0]\n",
    "    if nan_summary.empty:\n",
    "        print(\"No NaN values found\")\n",
    "    else:\n",
    "        print(\"NaN values detected:\")\n",
    "        print(nan_summary)\n",
    "    \n",
    "    # 2. Check for duplicate rows\n",
    "    dup_count = df.duplicated().sum()\n",
    "    if dup_count == 0:\n",
    "        print(\"No duplicate rows found\")\n",
    "    else:\n",
    "        print(f\"Found {dup_count} duplicate rows\")\n",
    "\n",
    "    # 3. Verify manually entered data (Season & Team)\n",
    "    if \"Season\" in df.columns:\n",
    "        seasons = df[\"Season\"].unique()\n",
    "        print(f\"Unique seasons: {seasons}\")\n",
    "    else:\n",
    "        print(\"No 'Season' column found\")\n",
    "        \n",
    "    if \"Team\" in df.columns:\n",
    "        teams = df[\"Team\"].unique()\n",
    "        print(f\"Unique teams: {len(teams)} teams\")\n",
    "        print(sorted(teams))\n",
    "    else:\n",
    "        print(\"No 'Team' column found\")\n",
    "    \n",
    "    print(\"-----------------------------------\\n\")"
   ]
  },
  {
   "cell_type": "code",
   "execution_count": 30,
   "metadata": {},
   "outputs": [
    {
     "name": "stdout",
     "output_type": "stream",
     "text": [
      "--- Cleaning Report for Front Office Data ---\n",
      "No NaN values found\n",
      "No duplicate rows found\n",
      "Unique seasons: [2025 2024 2023 2022 2021 2020 2019 2018 2017 2016]\n",
      "Unique teams: 30 teams\n",
      "['Atlanta Hawks', 'Boston Celtics', 'Brooklyn Nets', 'Charlotte Hornets', 'Chicago Bulls', 'Cleveland Cavaliers', 'Dallas Mavericks', 'Denver Nuggets', 'Detroit Pistons', 'Golden State Warriors', 'Houston Rockets', 'Indiana Pacers', 'Los Angeles Clippers', 'Los Angeles Lakers', 'Memphis Grizzlies', 'Miami Heat', 'Milwaukee Bucks', 'Minnesota Timberwolves', 'New Orleans Pelicans', 'New York Knicks', 'Oklahoma City Thunder', 'Orlando Magic', 'Philadelphia 76ers', 'Phoenix Suns', 'Portland Trail Blazers', 'Sacramento Kings', 'San Antonio Spurs', 'Toronto Raptors', 'Utah Jazz', 'Washington Wizards']\n",
      "-----------------------------------\n",
      "\n",
      "--- Cleaning Report for Strength of Schedule ---\n",
      "No NaN values found\n",
      "No duplicate rows found\n",
      "Unique seasons: [2025 2024 2023 2022 2021 2020 2019 2018 2017 2016]\n",
      "Unique teams: 30 teams\n",
      "['Atlanta Hawks', 'Boston Celtics', 'Brooklyn Nets', 'Charlotte Hornets', 'Chicago Bulls', 'Cleveland Cavaliers', 'Dallas Mavericks', 'Denver Nuggets', 'Detroit Pistons', 'Golden State Warriors', 'Houston Rockets', 'Indiana Pacers', 'Los Angeles Clippers', 'Los Angeles Lakers', 'Memphis Grizzlies', 'Miami Heat', 'Milwaukee Bucks', 'Minnesota Timberwolves', 'New Orleans Pelicans', 'New York Knicks', 'Oklahoma City Thunder', 'Orlando Magic', 'Philadelphia 76ers', 'Phoenix Suns', 'Portland Trail Blazers', 'Sacramento Kings', 'San Antonio Spurs', 'Toronto Raptors', 'Utah Jazz', 'Washington Wizards']\n",
      "-----------------------------------\n",
      "\n",
      "--- Cleaning Report for Master Dataframe ---\n",
      "NaN values detected:\n",
      "NWins    30\n",
      "dtype: int64\n",
      "No duplicate rows found\n",
      "Unique seasons: [2016 2017 2018 2019 2020 2021 2022 2023 2024 2025]\n",
      "Unique teams: 30 teams\n",
      "['Atlanta Hawks', 'Boston Celtics', 'Brooklyn Nets', 'Charlotte Hornets', 'Chicago Bulls', 'Cleveland Cavaliers', 'Dallas Mavericks', 'Denver Nuggets', 'Detroit Pistons', 'Golden State Warriors', 'Houston Rockets', 'Indiana Pacers', 'Los Angeles Clippers', 'Los Angeles Lakers', 'Memphis Grizzlies', 'Miami Heat', 'Milwaukee Bucks', 'Minnesota Timberwolves', 'New Orleans Pelicans', 'New York Knicks', 'Oklahoma City Thunder', 'Orlando Magic', 'Philadelphia 76ers', 'Phoenix Suns', 'Portland Trail Blazers', 'Sacramento Kings', 'San Antonio Spurs', 'Toronto Raptors', 'Utah Jazz', 'Washington Wizards']\n",
      "-----------------------------------\n",
      "\n"
     ]
    }
   ],
   "source": [
    "cleaning_report(front_office_df, \"Front Office Data\")\n",
    "cleaning_report(sos_df, \"Strength of Schedule\")\n",
    "cleaning_report(master_df, \"Master Dataframe\")"
   ]
  },
  {
   "cell_type": "code",
   "execution_count": 31,
   "metadata": {},
   "outputs": [
    {
     "name": "stdout",
     "output_type": "stream",
     "text": [
      "Empty DataFrame\n",
      "Columns: [Season, Team, GP, W, L, WIN%, Min, PTS, FGM, FGA, FG%, 3PM, 3PA, 3P%, FTM, FTA, FT%, OREB, DREB, REB, AST, TOV, STL, BLK, BLKA, PF, PFD, PLUS_MINUS, Rk, Home_W, Home_L, Road_W, Road_L, E_W, E_L, W_W, W_L, Pre-ASG_W, Pre-ASG_L, Post-ASG_W, Post-ASG_L, SOS, avg_age, avg_pts_top10, avg_production_score, injury_rate, Coach, Yw/Franch, YOverall, CareerW, CareerL, CareerW%, FirstRoundPicks, SecondRoundPicks, Coach_Count, Payroll, NWins]\n",
      "Index: []\n",
      "\n",
      "[0 rows x 57 columns]\n",
      "Total rows with NaN (non-2025): 0\n"
     ]
    }
   ],
   "source": [
    "# Filter to seasons other than 2025\n",
    "non_2025 = master_df[master_df[\"Season\"] != 2025]\n",
    "\n",
    "# Select only rows with at least one NaN\n",
    "rows_with_nans = non_2025[non_2025.isna().any(axis=1)]\n",
    "\n",
    "print(rows_with_nans.head())   # Preview first few rows\n",
    "print(\"Total rows with NaN (non-2025):\", len(rows_with_nans))\n"
   ]
  },
  {
   "cell_type": "markdown",
   "metadata": {},
   "source": [
    "This cleaning report has proved to be an immensely useful function. It was able to alert me that I had 61 NaN values in my Front Office dataset resulting in 61 NaN values in my Master dataset. In the end, it was a manual data insertion spelling error and has been resolved!\n",
    "\n",
    "Now that I have finished cleaning dataframes, I will move onto the exploration notebook. In this notebook, I will be exploring the data through summary statistics and visualizations with the core goal of understanding the data as best as possible."
   ]
  }
 ],
 "metadata": {
  "language_info": {
   "name": "python"
  }
 },
 "nbformat": 4,
 "nbformat_minor": 2
}
